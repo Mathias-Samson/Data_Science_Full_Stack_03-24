{
 "cells": [
  {
   "cell_type": "code",
   "execution_count": 31,
   "metadata": {},
   "outputs": [
    {
     "data": {
      "text/plain": [
       "'0x000000fee13a103a10d593b9ae06b3e05f2e7e1c'"
      ]
     },
     "execution_count": 31,
     "metadata": {},
     "output_type": "execute_result"
    }
   ],
   "source": [
    "'0x000000fee13a103A10D593b9AE06b3e05F2E7E1c'.lower()"
   ]
  },
  {
   "cell_type": "code",
   "execution_count": 44,
   "metadata": {},
   "outputs": [
    {
     "name": "stdout",
     "output_type": "stream",
     "text": [
      "    timestamp                              wallet_address  \\\n",
      "0  2024-01-14  0xfb19ffd1ff9316b7f5bba076ef4b78e4bbedf4e1   \n",
      "1  2024-01-14  0xf24135b3b4b43ba65b6624387ba6359b1f5d7ce3   \n",
      "2  2024-01-14  0x9d2c4cda3e174fa03a27c51c6bf1bc4a0072538b   \n",
      "3  2024-01-14  0x64dc5abfe2147e1e361b64bf7043867856fe548e   \n",
      "4  2024-01-14  0x608f641b55444d7197d636a5cb9053d1ce783bb0   \n",
      "\n",
      "                                token_address       balance  \n",
      "0  0xd26114cd6ee289accf82350c8d8487fedb8a0c07  1.051167e+10  \n",
      "1  0xd26114cd6ee289accf82350c8d8487fedb8a0c07  1.021925e+10  \n",
      "2  0xda47862a83dac0c112ba89c6abc2159b95afd71c  3.024594e+09  \n",
      "3  0xe012baf811cf9c05c408e879c399960d1f305903 -1.166460e-09  \n",
      "4  0xcd24ba0e3364233ee9301c1d608a14753c8739c5 -2.687700e+09  \n"
     ]
    }
   ],
   "source": [
    "import os\n",
    "import dask.dataframe as dd\n",
    "\n",
    "# Chemin du dossier contenant les fichiers .csv\n",
    "dossier = '../../../../erc20_balance_export/2024'\n",
    "\n",
    "# Lister tous les fichiers dans le dossier\n",
    "fichiers = os.listdir(dossier)\n",
    "\n",
    "# Filtrer les fichiers pour ne garder que ceux avec l'extension .csv\n",
    "fichiers_csv = [f for f in fichiers if f.endswith('.csv')]\n",
    "\n",
    "# Initialiser une liste pour stocker les DataFrames Dask\n",
    "dataframes = []\n",
    "\n",
    "# Par exemple, 50MB par partition\n",
    "blocksize = 50 * 1024 * 1024  # 50MB\n",
    "\n",
    "# Boucler sur chaque fichier .csv et lire son contenu avec Dask\n",
    "for fichier_csv in fichiers_csv:\n",
    "    chemin_complet = os.path.join(dossier, fichier_csv)\n",
    "    df = dd.read_csv(chemin_complet, blocksize=blocksize)\n",
    "    dataframes.append(df)\n",
    "\n",
    "# Combiner tous les DataFrames Dask en un seul DataFrame Dask\n",
    "df_combine = dd.concat(dataframes)\n",
    "\n",
    "# Afficher les premières lignes du DataFrame Dask\n",
    "print(df_combine.head())\n"
   ]
  },
  {
   "cell_type": "code",
   "execution_count": 28,
   "metadata": {},
   "outputs": [
    {
     "data": {
      "text/html": [
       "<div>\n",
       "<style scoped>\n",
       "    .dataframe tbody tr th:only-of-type {\n",
       "        vertical-align: middle;\n",
       "    }\n",
       "\n",
       "    .dataframe tbody tr th {\n",
       "        vertical-align: top;\n",
       "    }\n",
       "\n",
       "    .dataframe thead th {\n",
       "        text-align: right;\n",
       "    }\n",
       "</style>\n",
       "<table border=\"1\" class=\"dataframe\">\n",
       "  <thead>\n",
       "    <tr style=\"text-align: right;\">\n",
       "      <th></th>\n",
       "      <th>timestamp</th>\n",
       "      <th>balance</th>\n",
       "    </tr>\n",
       "  </thead>\n",
       "  <tbody>\n",
       "    <tr>\n",
       "      <th>0</th>\n",
       "      <td>2024-01-01</td>\n",
       "      <td>-1.559025e+10</td>\n",
       "    </tr>\n",
       "    <tr>\n",
       "      <th>1</th>\n",
       "      <td>2024-01-02</td>\n",
       "      <td>6.186213e+08</td>\n",
       "    </tr>\n",
       "    <tr>\n",
       "      <th>2</th>\n",
       "      <td>2024-01-03</td>\n",
       "      <td>-8.100869e+09</td>\n",
       "    </tr>\n",
       "    <tr>\n",
       "      <th>3</th>\n",
       "      <td>2024-01-04</td>\n",
       "      <td>1.697219e+10</td>\n",
       "    </tr>\n",
       "    <tr>\n",
       "      <th>4</th>\n",
       "      <td>2024-01-05</td>\n",
       "      <td>3.305615e+10</td>\n",
       "    </tr>\n",
       "    <tr>\n",
       "      <th>...</th>\n",
       "      <td>...</td>\n",
       "      <td>...</td>\n",
       "    </tr>\n",
       "    <tr>\n",
       "      <th>87</th>\n",
       "      <td>2024-03-28</td>\n",
       "      <td>-8.330456e+09</td>\n",
       "    </tr>\n",
       "    <tr>\n",
       "      <th>88</th>\n",
       "      <td>2024-03-29</td>\n",
       "      <td>2.694402e+10</td>\n",
       "    </tr>\n",
       "    <tr>\n",
       "      <th>89</th>\n",
       "      <td>2024-03-30</td>\n",
       "      <td>2.952772e+10</td>\n",
       "    </tr>\n",
       "    <tr>\n",
       "      <th>90</th>\n",
       "      <td>2024-03-31</td>\n",
       "      <td>2.762449e+10</td>\n",
       "    </tr>\n",
       "    <tr>\n",
       "      <th>91</th>\n",
       "      <td>2024-04-01</td>\n",
       "      <td>2.762449e+10</td>\n",
       "    </tr>\n",
       "  </tbody>\n",
       "</table>\n",
       "<p>92 rows × 2 columns</p>\n",
       "</div>"
      ],
      "text/plain": [
       "    timestamp       balance\n",
       "0  2024-01-01 -1.559025e+10\n",
       "1  2024-01-02  6.186213e+08\n",
       "2  2024-01-03 -8.100869e+09\n",
       "3  2024-01-04  1.697219e+10\n",
       "4  2024-01-05  3.305615e+10\n",
       "..        ...           ...\n",
       "87 2024-03-28 -8.330456e+09\n",
       "88 2024-03-29  2.694402e+10\n",
       "89 2024-03-30  2.952772e+10\n",
       "90 2024-03-31  2.762449e+10\n",
       "91 2024-04-01  2.762449e+10\n",
       "\n",
       "[92 rows x 2 columns]"
      ]
     },
     "execution_count": 28,
     "metadata": {},
     "output_type": "execute_result"
    }
   ],
   "source": [
    "test_ts.set_index('timestamp', inplace=True)\n",
    "date_range = pd.date_range(start='2024-01-01', end='2024-04-01')\n",
    "test_ts = test_ts.reindex(date_range)\n",
    "test_ts['balance'] = test_ts['balance'].ffill()\n",
    "test_ts = test_ts.reset_index()\n",
    "test_ts.rename(columns={'index': 'timestamp'}, inplace=True)\n",
    "test_ts"
   ]
  },
  {
   "cell_type": "code",
   "execution_count": 1,
   "metadata": {},
   "outputs": [
    {
     "data": {
      "text/plain": [
       "'0xdf09a216fac5adc3e640db418c0b956076509503'"
      ]
     },
     "execution_count": 1,
     "metadata": {},
     "output_type": "execute_result"
    }
   ],
   "source": [
    "'0xdf09a216Fac5ADC3e640Db418C0b956076509503'.lower()"
   ]
  },
  {
   "cell_type": "code",
   "execution_count": 109,
   "metadata": {},
   "outputs": [
    {
     "data": {
      "text/html": [
       "<div>\n",
       "<style scoped>\n",
       "    .dataframe tbody tr th:only-of-type {\n",
       "        vertical-align: middle;\n",
       "    }\n",
       "\n",
       "    .dataframe tbody tr th {\n",
       "        vertical-align: top;\n",
       "    }\n",
       "\n",
       "    .dataframe thead th {\n",
       "        text-align: right;\n",
       "    }\n",
       "</style>\n",
       "<table border=\"1\" class=\"dataframe\">\n",
       "  <thead>\n",
       "    <tr style=\"text-align: right;\">\n",
       "      <th></th>\n",
       "      <th>timestamp</th>\n",
       "      <th>wallet_address</th>\n",
       "      <th>token_address</th>\n",
       "      <th>balance</th>\n",
       "    </tr>\n",
       "  </thead>\n",
       "  <tbody>\n",
       "    <tr>\n",
       "      <th>0</th>\n",
       "      <td>2024-06-09</td>\n",
       "      <td>0xe598c65f960a8c39b539f31cabf2c28f1567fd54</td>\n",
       "      <td>0xca3a43be02b0266cf66e340ed3811c1ecfc06332</td>\n",
       "      <td>1.085215e+03</td>\n",
       "    </tr>\n",
       "    <tr>\n",
       "      <th>1</th>\n",
       "      <td>2024-06-08</td>\n",
       "      <td>0xe598c65f960a8c39b539f31cabf2c28f1567fd54</td>\n",
       "      <td>0x87847ed8ccfe56b38c9f429531e8ea3c505b608c</td>\n",
       "      <td>3.574068e+14</td>\n",
       "    </tr>\n",
       "    <tr>\n",
       "      <th>2</th>\n",
       "      <td>2024-06-07</td>\n",
       "      <td>0xe598c65f960a8c39b539f31cabf2c28f1567fd54</td>\n",
       "      <td>0x03e16eecf52668c10974d248005b196a9c864cf8</td>\n",
       "      <td>1.000000e-10</td>\n",
       "    </tr>\n",
       "    <tr>\n",
       "      <th>3</th>\n",
       "      <td>2024-06-05</td>\n",
       "      <td>0xe598c65f960a8c39b539f31cabf2c28f1567fd54</td>\n",
       "      <td>0xb30240d48c05a4b950c470e2d6aefc9117a50624</td>\n",
       "      <td>0.000000e+00</td>\n",
       "    </tr>\n",
       "    <tr>\n",
       "      <th>4</th>\n",
       "      <td>2024-06-04</td>\n",
       "      <td>0xe598c65f960a8c39b539f31cabf2c28f1567fd54</td>\n",
       "      <td>0x82a605d6d9114f4ad6d5ee461027477eeed31e34</td>\n",
       "      <td>4.084877e+10</td>\n",
       "    </tr>\n",
       "    <tr>\n",
       "      <th>...</th>\n",
       "      <td>...</td>\n",
       "      <td>...</td>\n",
       "      <td>...</td>\n",
       "      <td>...</td>\n",
       "    </tr>\n",
       "    <tr>\n",
       "      <th>231</th>\n",
       "      <td>2020-03-20</td>\n",
       "      <td>0xe598c65f960a8c39b539f31cabf2c28f1567fd54</td>\n",
       "      <td>0x22a39c2dd54b71ac884657bb3e37308abe2d02e1</td>\n",
       "      <td>1.157921e+45</td>\n",
       "    </tr>\n",
       "    <tr>\n",
       "      <th>232</th>\n",
       "      <td>2020-03-15</td>\n",
       "      <td>0xe598c65f960a8c39b539f31cabf2c28f1567fd54</td>\n",
       "      <td>0x3a4a0d5b8dfacd651ee28ed4ffebf91500345489</td>\n",
       "      <td>8.000000e+04</td>\n",
       "    </tr>\n",
       "    <tr>\n",
       "      <th>233</th>\n",
       "      <td>2020-02-02</td>\n",
       "      <td>0xe598c65f960a8c39b539f31cabf2c28f1567fd54</td>\n",
       "      <td>0x11cbb069aa7f8fbf00c62206d1239e11dc62624e</td>\n",
       "      <td>8.888800e+04</td>\n",
       "    </tr>\n",
       "    <tr>\n",
       "      <th>234</th>\n",
       "      <td>2019-11-06</td>\n",
       "      <td>0xe598c65f960a8c39b539f31cabf2c28f1567fd54</td>\n",
       "      <td>0xb7fbe91752dd926a5ea103f1b2e8b6fd2cee4d91</td>\n",
       "      <td>5.000000e-09</td>\n",
       "    </tr>\n",
       "    <tr>\n",
       "      <th>235</th>\n",
       "      <td>2019-10-22</td>\n",
       "      <td>0xe598c65f960a8c39b539f31cabf2c28f1567fd54</td>\n",
       "      <td>0x04ad70466a79dd1251f22ad426248088724ff32b</td>\n",
       "      <td>4.210000e-10</td>\n",
       "    </tr>\n",
       "  </tbody>\n",
       "</table>\n",
       "<p>236 rows × 4 columns</p>\n",
       "</div>"
      ],
      "text/plain": [
       "      timestamp                              wallet_address  \\\n",
       "0    2024-06-09  0xe598c65f960a8c39b539f31cabf2c28f1567fd54   \n",
       "1    2024-06-08  0xe598c65f960a8c39b539f31cabf2c28f1567fd54   \n",
       "2    2024-06-07  0xe598c65f960a8c39b539f31cabf2c28f1567fd54   \n",
       "3    2024-06-05  0xe598c65f960a8c39b539f31cabf2c28f1567fd54   \n",
       "4    2024-06-04  0xe598c65f960a8c39b539f31cabf2c28f1567fd54   \n",
       "..          ...                                         ...   \n",
       "231  2020-03-20  0xe598c65f960a8c39b539f31cabf2c28f1567fd54   \n",
       "232  2020-03-15  0xe598c65f960a8c39b539f31cabf2c28f1567fd54   \n",
       "233  2020-02-02  0xe598c65f960a8c39b539f31cabf2c28f1567fd54   \n",
       "234  2019-11-06  0xe598c65f960a8c39b539f31cabf2c28f1567fd54   \n",
       "235  2019-10-22  0xe598c65f960a8c39b539f31cabf2c28f1567fd54   \n",
       "\n",
       "                                  token_address       balance  \n",
       "0    0xca3a43be02b0266cf66e340ed3811c1ecfc06332  1.085215e+03  \n",
       "1    0x87847ed8ccfe56b38c9f429531e8ea3c505b608c  3.574068e+14  \n",
       "2    0x03e16eecf52668c10974d248005b196a9c864cf8  1.000000e-10  \n",
       "3    0xb30240d48c05a4b950c470e2d6aefc9117a50624  0.000000e+00  \n",
       "4    0x82a605d6d9114f4ad6d5ee461027477eeed31e34  4.084877e+10  \n",
       "..                                          ...           ...  \n",
       "231  0x22a39c2dd54b71ac884657bb3e37308abe2d02e1  1.157921e+45  \n",
       "232  0x3a4a0d5b8dfacd651ee28ed4ffebf91500345489  8.000000e+04  \n",
       "233  0x11cbb069aa7f8fbf00c62206d1239e11dc62624e  8.888800e+04  \n",
       "234  0xb7fbe91752dd926a5ea103f1b2e8b6fd2cee4d91  5.000000e-09  \n",
       "235  0x04ad70466a79dd1251f22ad426248088724ff32b  4.210000e-10  \n",
       "\n",
       "[236 rows x 4 columns]"
      ]
     },
     "metadata": {},
     "output_type": "display_data"
    }
   ],
   "source": [
    "import requests\n",
    "address = '0xe598c65f960a8c39b539f31cabf2c28f1567fd54'\n",
    "url = f'https://walletscan-api-7f80b4b1818a.herokuapp.com/wallet-info/{address.lower()}'\n",
    "\n",
    "response = requests.get(url)\n",
    "\n",
    "if response.status_code == 200:\n",
    "    wallet_info = response.json()\n",
    "    wallet_data = pd.DataFrame(wallet_info)\n",
    "    display(wallet_data)\n",
    "else:\n",
    "    print(f\"Error: {response.status_code}\")"
   ]
  },
  {
   "cell_type": "code",
   "execution_count": 78,
   "metadata": {},
   "outputs": [
    {
     "name": "stderr",
     "output_type": "stream",
     "text": [
      "INFO:nixtla.nixtla_client:Happy Forecasting! :), If you have questions or need support, please email ops@nixtla.io sharing this response and ID: YARU8RAPYX\n"
     ]
    },
    {
     "data": {
      "text/plain": [
       "True"
      ]
     },
     "execution_count": 78,
     "metadata": {},
     "output_type": "execute_result"
    }
   ],
   "source": [
    "KEY = \"--\"\n",
    "from nixtla import NixtlaClient\n",
    "nixtla_client = NixtlaClient(\n",
    "    api_key = KEY\n",
    ")\n",
    "nixtla_client.validate_api_key()\n"
   ]
  },
  {
   "cell_type": "code",
   "execution_count": 107,
   "metadata": {},
   "outputs": [
    {
     "data": {
      "image/png": "[encoded data removed]",
      "text/plain": [
       "<Figure size 2400x350 with 1 Axes>"
      ]
     },
     "execution_count": 107,
     "metadata": {},
     "output_type": "execute_result"
    }
   ],
   "source": [
    "nixtla_client.plot(test_ts, time_col='timestamp', target_col='balance')\n"
   ]
  },
  {
   "cell_type": "code",
   "execution_count": 97,
   "metadata": {},
   "outputs": [
    {
     "name": "stderr",
     "output_type": "stream",
     "text": [
      "INFO:nixtla.nixtla_client:Validating inputs...\n",
      "INFO:nixtla.nixtla_client:Preprocessing dataframes...\n",
      "WARNING:nixtla.nixtla_client:The specified horizon \"h\" exceeds the model horizon. This may lead to less accurate forecasts. Please consider using a smaller horizon.\n",
      "INFO:nixtla.nixtla_client:Calling Forecast Endpoint...\n",
      "INFO:nixtla.nixtla_client:Calling Historical Forecast Endpoint...\n"
     ]
    },
    {
     "data": {
      "text/html": [
       "<div>\n",
       "<style scoped>\n",
       "    .dataframe tbody tr th:only-of-type {\n",
       "        vertical-align: middle;\n",
       "    }\n",
       "\n",
       "    .dataframe tbody tr th {\n",
       "        vertical-align: top;\n",
       "    }\n",
       "\n",
       "    .dataframe thead th {\n",
       "        text-align: right;\n",
       "    }\n",
       "</style>\n",
       "<table border=\"1\" class=\"dataframe\">\n",
       "  <thead>\n",
       "    <tr style=\"text-align: right;\">\n",
       "      <th></th>\n",
       "      <th>timestamp</th>\n",
       "      <th>TimeGPT</th>\n",
       "      <th>TimeGPT-lo-80</th>\n",
       "      <th>TimeGPT-lo-90</th>\n",
       "      <th>TimeGPT-hi-80</th>\n",
       "      <th>TimeGPT-hi-90</th>\n",
       "    </tr>\n",
       "  </thead>\n",
       "  <tbody>\n",
       "    <tr>\n",
       "      <th>0</th>\n",
       "      <td>2024-01-30</td>\n",
       "      <td>54338531328</td>\n",
       "      <td>1.156033e+10</td>\n",
       "      <td>-5.666980e+08</td>\n",
       "      <td>9.711673e+10</td>\n",
       "      <td>1.092438e+11</td>\n",
       "    </tr>\n",
       "    <tr>\n",
       "      <th>1</th>\n",
       "      <td>2024-01-31</td>\n",
       "      <td>54546829312</td>\n",
       "      <td>1.176863e+10</td>\n",
       "      <td>-3.584000e+08</td>\n",
       "      <td>9.732503e+10</td>\n",
       "      <td>1.094521e+11</td>\n",
       "    </tr>\n",
       "    <tr>\n",
       "      <th>2</th>\n",
       "      <td>2024-02-01</td>\n",
       "      <td>54929997824</td>\n",
       "      <td>1.215179e+10</td>\n",
       "      <td>2.476849e+07</td>\n",
       "      <td>9.770820e+10</td>\n",
       "      <td>1.098352e+11</td>\n",
       "    </tr>\n",
       "    <tr>\n",
       "      <th>3</th>\n",
       "      <td>2024-02-02</td>\n",
       "      <td>57269784576</td>\n",
       "      <td>1.449158e+10</td>\n",
       "      <td>2.364555e+09</td>\n",
       "      <td>1.000480e+11</td>\n",
       "      <td>1.121750e+11</td>\n",
       "    </tr>\n",
       "    <tr>\n",
       "      <th>4</th>\n",
       "      <td>2024-02-03</td>\n",
       "      <td>57241587712</td>\n",
       "      <td>1.446338e+10</td>\n",
       "      <td>2.336358e+09</td>\n",
       "      <td>1.000198e+11</td>\n",
       "      <td>1.121468e+11</td>\n",
       "    </tr>\n",
       "  </tbody>\n",
       "</table>\n",
       "</div>"
      ],
      "text/plain": [
       "    timestamp      TimeGPT  TimeGPT-lo-80  TimeGPT-lo-90  TimeGPT-hi-80  \\\n",
       "0  2024-01-30  54338531328   1.156033e+10  -5.666980e+08   9.711673e+10   \n",
       "1  2024-01-31  54546829312   1.176863e+10  -3.584000e+08   9.732503e+10   \n",
       "2  2024-02-01  54929997824   1.215179e+10   2.476849e+07   9.770820e+10   \n",
       "3  2024-02-02  57269784576   1.449158e+10   2.364555e+09   1.000480e+11   \n",
       "4  2024-02-03  57241587712   1.446338e+10   2.336358e+09   1.000198e+11   \n",
       "\n",
       "   TimeGPT-hi-90  \n",
       "0   1.092438e+11  \n",
       "1   1.094521e+11  \n",
       "2   1.098352e+11  \n",
       "3   1.121750e+11  \n",
       "4   1.121468e+11  "
      ]
     },
     "execution_count": 97,
     "metadata": {},
     "output_type": "execute_result"
    }
   ],
   "source": [
    "timegpt_fcst_df = nixtla_client.forecast(df=test, \n",
    "                                         h=12, \n",
    "                                         freq='D', \n",
    "                                         time_col='timestamp', \n",
    "                                         target_col='balance',\n",
    "                                         level=[80, 90],\n",
    "                                         add_history=True,\n",
    "                                         )\n",
    "timegpt_fcst_df.head()\n"
   ]
  },
  {
   "cell_type": "code",
   "execution_count": 98,
   "metadata": {},
   "outputs": [
    {
     "data": {
      "image/png": "[encoded data removed]",
      "text/plain": [
       "<Figure size 2400x350 with 1 Axes>"
      ]
     },
     "execution_count": 98,
     "metadata": {},
     "output_type": "execute_result"
    }
   ],
   "source": [
    "nixtla_client.plot(test, \n",
    "                   timegpt_fcst_df, \n",
    "                   time_col='timestamp', \n",
    "                   target_col='balance',\n",
    "                   level=[80, 90],)\n"
   ]
  },
  {
   "cell_type": "markdown",
   "metadata": {},
   "source": [
    "# get wallet info"
   ]
  },
  {
   "cell_type": "code",
   "execution_count": 52,
   "metadata": {},
   "outputs": [],
   "source": [
    "response = get_wallet_info('0x3b57d4be6aaf6a7340033456e6b9a4a5e64edbb2')"
   ]
  },
  {
   "cell_type": "code",
   "execution_count": 98,
   "metadata": {},
   "outputs": [],
   "source": [
    "df = pd.DataFrame(response['wallet_data'])"
   ]
  },
  {
   "cell_type": "code",
   "execution_count": 113,
   "metadata": {},
   "outputs": [
    {
     "data": {
      "text/plain": [
       "(2022, 6, 2024, 66, 363)"
      ]
     },
     "execution_count": 113,
     "metadata": {},
     "output_type": "execute_result"
    }
   ],
   "source": [
    "first_tx = pd.to_datetime(df['timestamp'].min()).year\n",
    "last_tx_year = pd.to_datetime(df['timestamp'].max()).year\n",
    "last_tx_month = pd.to_datetime(df['timestamp'].max()).month\n",
    "nb_unique_tokens = df[\"token_address\"].nunique()\n",
    "nb_tx = df['timestamp'].count()\n",
    "first_tx, last_tx_month, last_tx_year, nb_unique_tokens, nb_tx\n"
   ]
  },
  {
   "cell_type": "code",
   "execution_count": 114,
   "metadata": {},
   "outputs": [],
   "source": [
    "token_info = token_dict.loc[token_dict['address'] == \"0xf34b1db61aca1a371fe97bad2606c9f534fb9d7d\".lower()]"
   ]
  },
  {
   "cell_type": "code",
   "execution_count": 126,
   "metadata": {},
   "outputs": [
    {
     "data": {
      "text/plain": [
       "'Arbismart Token'"
      ]
     },
     "execution_count": 126,
     "metadata": {},
     "output_type": "execute_result"
    }
   ],
   "source": []
  },
  {
   "cell_type": "code",
   "execution_count": 128,
   "metadata": {},
   "outputs": [
    {
     "data": {
      "text/plain": [
       "'Arbismart Token (RBIS)'"
      ]
     },
     "execution_count": 128,
     "metadata": {},
     "output_type": "execute_result"
    }
   ],
   "source": [
    "(f\"{token_info.iloc[0]['name']} ({token_info.iloc[0]['symbol']})\")"
   ]
  },
  {
   "cell_type": "code",
   "execution_count": 100,
   "metadata": {},
   "outputs": [
    {
     "data": {
      "text/html": [
       "<div>\n",
       "<style scoped>\n",
       "    .dataframe tbody tr th:only-of-type {\n",
       "        vertical-align: middle;\n",
       "    }\n",
       "\n",
       "    .dataframe tbody tr th {\n",
       "        vertical-align: top;\n",
       "    }\n",
       "\n",
       "    .dataframe thead th {\n",
       "        text-align: right;\n",
       "    }\n",
       "</style>\n",
       "<table border=\"1\" class=\"dataframe\">\n",
       "  <thead>\n",
       "    <tr style=\"text-align: right;\">\n",
       "      <th></th>\n",
       "      <th>timestamp</th>\n",
       "      <th>token_address</th>\n",
       "      <th>balance</th>\n",
       "    </tr>\n",
       "  </thead>\n",
       "  <tbody>\n",
       "    <tr>\n",
       "      <th>0</th>\n",
       "      <td>2024-06-09</td>\n",
       "      <td>0x09970aec766b6f3223aca9111555e99dc50ff13a</td>\n",
       "      <td>1.329000e+08</td>\n",
       "    </tr>\n",
       "    <tr>\n",
       "      <th>1</th>\n",
       "      <td>2024-06-09</td>\n",
       "      <td>0xf3db5fa2c66b7af3eb0c0b782510816cbe4813b8</td>\n",
       "      <td>7.160000e-07</td>\n",
       "    </tr>\n",
       "    <tr>\n",
       "      <th>2</th>\n",
       "      <td>2024-06-08</td>\n",
       "      <td>0xc6d1f1d5a46de07e73091f1c8793293b203f01a1</td>\n",
       "      <td>3.084192e+14</td>\n",
       "    </tr>\n",
       "    <tr>\n",
       "      <th>3</th>\n",
       "      <td>2024-06-07</td>\n",
       "      <td>0x8400d94a5cb0fa0d041a3788e395285d61c9ee5e</td>\n",
       "      <td>0.000000e+00</td>\n",
       "    </tr>\n",
       "    <tr>\n",
       "      <th>4</th>\n",
       "      <td>2024-06-01</td>\n",
       "      <td>0xaaaebe6fe48e54f431b0c390cfaf0b017d09d42d</td>\n",
       "      <td>0.000000e+00</td>\n",
       "    </tr>\n",
       "    <tr>\n",
       "      <th>...</th>\n",
       "      <td>...</td>\n",
       "      <td>...</td>\n",
       "      <td>...</td>\n",
       "    </tr>\n",
       "    <tr>\n",
       "      <th>358</th>\n",
       "      <td>2022-09-07</td>\n",
       "      <td>0x4fd5b9b5dcc9a5d5931d007ba4ae573e760d9b64</td>\n",
       "      <td>6.152000e+07</td>\n",
       "    </tr>\n",
       "    <tr>\n",
       "      <th>359</th>\n",
       "      <td>2022-09-06</td>\n",
       "      <td>0x4156d3342d5c385a87d264f90653733592000581</td>\n",
       "      <td>3.937000e-03</td>\n",
       "    </tr>\n",
       "    <tr>\n",
       "      <th>360</th>\n",
       "      <td>2022-09-06</td>\n",
       "      <td>0x0c37bcf456bc661c14d596683325623076d7e283</td>\n",
       "      <td>1.833300e+10</td>\n",
       "    </tr>\n",
       "    <tr>\n",
       "      <th>361</th>\n",
       "      <td>2022-09-05</td>\n",
       "      <td>0x4156d3342d5c385a87d264f90653733592000581</td>\n",
       "      <td>2.423000e-03</td>\n",
       "    </tr>\n",
       "    <tr>\n",
       "      <th>362</th>\n",
       "      <td>2022-08-30</td>\n",
       "      <td>0xbd3de9a069648c84d27d74d701c9fa3253098b15</td>\n",
       "      <td>2.845100e+08</td>\n",
       "    </tr>\n",
       "  </tbody>\n",
       "</table>\n",
       "<p>363 rows × 3 columns</p>\n",
       "</div>"
      ],
      "text/plain": [
       "      timestamp                               token_address       balance\n",
       "0    2024-06-09  0x09970aec766b6f3223aca9111555e99dc50ff13a  1.329000e+08\n",
       "1    2024-06-09  0xf3db5fa2c66b7af3eb0c0b782510816cbe4813b8  7.160000e-07\n",
       "2    2024-06-08  0xc6d1f1d5a46de07e73091f1c8793293b203f01a1  3.084192e+14\n",
       "3    2024-06-07  0x8400d94a5cb0fa0d041a3788e395285d61c9ee5e  0.000000e+00\n",
       "4    2024-06-01  0xaaaebe6fe48e54f431b0c390cfaf0b017d09d42d  0.000000e+00\n",
       "..          ...                                         ...           ...\n",
       "358  2022-09-07  0x4fd5b9b5dcc9a5d5931d007ba4ae573e760d9b64  6.152000e+07\n",
       "359  2022-09-06  0x4156d3342d5c385a87d264f90653733592000581  3.937000e-03\n",
       "360  2022-09-06  0x0c37bcf456bc661c14d596683325623076d7e283  1.833300e+10\n",
       "361  2022-09-05  0x4156d3342d5c385a87d264f90653733592000581  2.423000e-03\n",
       "362  2022-08-30  0xbd3de9a069648c84d27d74d701c9fa3253098b15  2.845100e+08\n",
       "\n",
       "[363 rows x 3 columns]"
      ]
     },
     "execution_count": 100,
     "metadata": {},
     "output_type": "execute_result"
    }
   ],
   "source": [
    "df.drop(\"wallet_address\", axis=1, inplace=True)\n",
    "df"
   ]
  },
  {
   "cell_type": "code",
   "execution_count": 85,
   "metadata": {},
   "outputs": [
    {
     "name": "stderr",
     "output_type": "stream",
     "text": [
      "INFO:nixtla.nixtla_client:Validating inputs...\n",
      "INFO:nixtla.nixtla_client:Preprocessing dataframes...\n",
      "WARNING:nixtla.nixtla_client:The specified horizon \"h\" exceeds the model horizon. This may lead to less accurate forecasts. Please consider using a smaller horizon.\n",
      "INFO:nixtla.nixtla_client:Calling Forecast Endpoint...\n",
      "INFO:nixtla.nixtla_client:Calling Historical Forecast Endpoint...\n"
     ]
    },
    {
     "data": {
      "text/html": [
       "<div>\n",
       "<style scoped>\n",
       "    .dataframe tbody tr th:only-of-type {\n",
       "        vertical-align: middle;\n",
       "    }\n",
       "\n",
       "    .dataframe tbody tr th {\n",
       "        vertical-align: top;\n",
       "    }\n",
       "\n",
       "    .dataframe thead th {\n",
       "        text-align: right;\n",
       "    }\n",
       "</style>\n",
       "<table border=\"1\" class=\"dataframe\">\n",
       "  <thead>\n",
       "    <tr style=\"text-align: right;\">\n",
       "      <th></th>\n",
       "      <th>timestamp</th>\n",
       "      <th>TimeGPT</th>\n",
       "      <th>TimeGPT-lo-80</th>\n",
       "      <th>TimeGPT-lo-90</th>\n",
       "      <th>TimeGPT-hi-80</th>\n",
       "      <th>TimeGPT-hi-90</th>\n",
       "    </tr>\n",
       "  </thead>\n",
       "  <tbody>\n",
       "    <tr>\n",
       "      <th>0</th>\n",
       "      <td>2024-01-30</td>\n",
       "      <td>1.339690e-02</td>\n",
       "      <td>-6.984043e+06</td>\n",
       "      <td>-8.963923e+06</td>\n",
       "      <td>6.984043e+06</td>\n",
       "      <td>8.963923e+06</td>\n",
       "    </tr>\n",
       "    <tr>\n",
       "      <th>1</th>\n",
       "      <td>2024-01-31</td>\n",
       "      <td>1.853471e-02</td>\n",
       "      <td>-6.984043e+06</td>\n",
       "      <td>-8.963923e+06</td>\n",
       "      <td>6.984043e+06</td>\n",
       "      <td>8.963923e+06</td>\n",
       "    </tr>\n",
       "    <tr>\n",
       "      <th>2</th>\n",
       "      <td>2024-02-01</td>\n",
       "      <td>2.489477e-02</td>\n",
       "      <td>-6.984043e+06</td>\n",
       "      <td>-8.963923e+06</td>\n",
       "      <td>6.984043e+06</td>\n",
       "      <td>8.963923e+06</td>\n",
       "    </tr>\n",
       "    <tr>\n",
       "      <th>3</th>\n",
       "      <td>2024-02-02</td>\n",
       "      <td>2.483144e-02</td>\n",
       "      <td>-6.984043e+06</td>\n",
       "      <td>-8.963923e+06</td>\n",
       "      <td>6.984043e+06</td>\n",
       "      <td>8.963923e+06</td>\n",
       "    </tr>\n",
       "    <tr>\n",
       "      <th>4</th>\n",
       "      <td>2024-02-03</td>\n",
       "      <td>2.713930e-02</td>\n",
       "      <td>-6.984043e+06</td>\n",
       "      <td>-8.963923e+06</td>\n",
       "      <td>6.984043e+06</td>\n",
       "      <td>8.963923e+06</td>\n",
       "    </tr>\n",
       "    <tr>\n",
       "      <th>...</th>\n",
       "      <td>...</td>\n",
       "      <td>...</td>\n",
       "      <td>...</td>\n",
       "      <td>...</td>\n",
       "      <td>...</td>\n",
       "      <td>...</td>\n",
       "    </tr>\n",
       "    <tr>\n",
       "      <th>7</th>\n",
       "      <td>2024-04-09</td>\n",
       "      <td>2.080000e+07</td>\n",
       "      <td>2.020965e+07</td>\n",
       "      <td>1.889570e+07</td>\n",
       "      <td>2.139035e+07</td>\n",
       "      <td>2.270430e+07</td>\n",
       "    </tr>\n",
       "    <tr>\n",
       "      <th>8</th>\n",
       "      <td>2024-04-10</td>\n",
       "      <td>2.080000e+07</td>\n",
       "      <td>1.980644e+07</td>\n",
       "      <td>1.736426e+07</td>\n",
       "      <td>2.179356e+07</td>\n",
       "      <td>2.423574e+07</td>\n",
       "    </tr>\n",
       "    <tr>\n",
       "      <th>9</th>\n",
       "      <td>2024-04-11</td>\n",
       "      <td>2.080000e+07</td>\n",
       "      <td>1.940970e+07</td>\n",
       "      <td>1.643444e+07</td>\n",
       "      <td>2.219030e+07</td>\n",
       "      <td>2.516556e+07</td>\n",
       "    </tr>\n",
       "    <tr>\n",
       "      <th>10</th>\n",
       "      <td>2024-04-12</td>\n",
       "      <td>2.080000e+07</td>\n",
       "      <td>1.900296e+07</td>\n",
       "      <td>1.555775e+07</td>\n",
       "      <td>2.259704e+07</td>\n",
       "      <td>2.604225e+07</td>\n",
       "    </tr>\n",
       "    <tr>\n",
       "      <th>11</th>\n",
       "      <td>2024-04-13</td>\n",
       "      <td>2.080000e+07</td>\n",
       "      <td>1.406612e+07</td>\n",
       "      <td>6.852020e+06</td>\n",
       "      <td>2.753388e+07</td>\n",
       "      <td>3.474798e+07</td>\n",
       "    </tr>\n",
       "  </tbody>\n",
       "</table>\n",
       "<p>75 rows × 6 columns</p>\n",
       "</div>"
      ],
      "text/plain": [
       "     timestamp       TimeGPT  TimeGPT-lo-80  TimeGPT-lo-90  TimeGPT-hi-80  \\\n",
       "0   2024-01-30  1.339690e-02  -6.984043e+06  -8.963923e+06   6.984043e+06   \n",
       "1   2024-01-31  1.853471e-02  -6.984043e+06  -8.963923e+06   6.984043e+06   \n",
       "2   2024-02-01  2.489477e-02  -6.984043e+06  -8.963923e+06   6.984043e+06   \n",
       "3   2024-02-02  2.483144e-02  -6.984043e+06  -8.963923e+06   6.984043e+06   \n",
       "4   2024-02-03  2.713930e-02  -6.984043e+06  -8.963923e+06   6.984043e+06   \n",
       "..         ...           ...            ...            ...            ...   \n",
       "7   2024-04-09  2.080000e+07   2.020965e+07   1.889570e+07   2.139035e+07   \n",
       "8   2024-04-10  2.080000e+07   1.980644e+07   1.736426e+07   2.179356e+07   \n",
       "9   2024-04-11  2.080000e+07   1.940970e+07   1.643444e+07   2.219030e+07   \n",
       "10  2024-04-12  2.080000e+07   1.900296e+07   1.555775e+07   2.259704e+07   \n",
       "11  2024-04-13  2.080000e+07   1.406612e+07   6.852020e+06   2.753388e+07   \n",
       "\n",
       "    TimeGPT-hi-90  \n",
       "0    8.963923e+06  \n",
       "1    8.963923e+06  \n",
       "2    8.963923e+06  \n",
       "3    8.963923e+06  \n",
       "4    8.963923e+06  \n",
       "..            ...  \n",
       "7    2.270430e+07  \n",
       "8    2.423574e+07  \n",
       "9    2.516556e+07  \n",
       "10   2.604225e+07  \n",
       "11   3.474798e+07  \n",
       "\n",
       "[75 rows x 6 columns]"
      ]
     },
     "metadata": {},
     "output_type": "display_data"
    },
    {
     "data": {
      "image/png": "[encoded data removed]",
      "text/plain": [
       "<Figure size 2400x350 with 1 Axes>"
      ]
     },
     "execution_count": 85,
     "metadata": {},
     "output_type": "execute_result"
    }
   ],
   "source": [
    "def expend_wallet_history(balance_history):\n",
    "    balance_history['timestamp'] = pd.to_datetime(balance_history['timestamp'])\n",
    "    dates = pd.date_range(start='2024-01-01', end='2024-04-01', freq='D')\n",
    "    df = pd.DataFrame(index=dates)\n",
    "    df = df.merge(token_only, how='left', left_index=True, right_on='timestamp')\n",
    "    df = df.set_index('timestamp').reindex(dates)\n",
    "    df['balance'] = df['balance'].ffill().fillna(0)\n",
    "    df = df.reset_index()\n",
    "    df = df.rename(columns={'index': 'timestamp'})\n",
    "    return df\n",
    "\n",
    "if response['status_code'] == 200:\n",
    "    df = pd.DataFrame(response['wallet_data'])\n",
    "    df.drop(\"wallet_address\", axis=1, inplace=True)\n",
    "    #### HERE\n",
    "\n",
    "\n",
    "    #token_only = df.loc[df['token_address']==st.query_params.token.lower()].copy()\n",
    "    token_only = df.loc[df['token_address']=='0x0c37bcf456bc661c14d596683325623076d7e283'.lower()].copy()\n",
    "    token_only.drop(\"token_address\", axis=1, inplace=True)\n",
    "    token_only['balance'] = (token_only['balance']/10000).round()\n",
    "    expended_balance = expend_wallet_history(token_only)\n",
    "\n",
    "timegpt_fcst_df = nixtla_client.forecast(df=expended_balance, \n",
    "                                         h=12, \n",
    "                                         freq='D', \n",
    "                                         time_col='timestamp', \n",
    "                                         target_col='balance',\n",
    "                                         level=[80, 90],\n",
    "                                         add_history=True,\n",
    "                                         )\n",
    "display(timegpt_fcst_df)\n",
    "\n",
    "nixtla_client.plot(expended_balance, \n",
    "                   timegpt_fcst_df, \n",
    "                   time_col='timestamp', \n",
    "                   target_col='balance',\n",
    "                   level=[80, 90],)"
   ]
  },
  {
   "cell_type": "code",
   "execution_count": 93,
   "metadata": {},
   "outputs": [
    {
     "data": {
      "application/vnd.plotly.v1+json": {
       "config": {
        "plotlyServerURL": "https://plot.ly"
       },
       "data": [
        {
         "line": {
          "color": "blue"
         },
         "mode": "lines",
         "name": "Actual Value",
         "type": "scatter",
         "x": [
          "2024-01-01T00:00:00",
          "2024-01-02T00:00:00",
          "2024-01-03T00:00:00",
          "2024-01-04T00:00:00",
          "2024-01-05T00:00:00",
          "2024-01-06T00:00:00",
          "2024-01-07T00:00:00",
          "2024-01-08T00:00:00",
          "2024-01-09T00:00:00",
          "2024-01-10T00:00:00",
          "2024-01-11T00:00:00",
          "2024-01-12T00:00:00",
          "2024-01-13T00:00:00",
          "2024-01-14T00:00:00",
          "2024-01-15T00:00:00",
          "2024-01-16T00:00:00",
          "2024-01-17T00:00:00",
          "2024-01-18T00:00:00",
          "2024-01-19T00:00:00",
          "2024-01-20T00:00:00",
          "2024-01-21T00:00:00",
          "2024-01-22T00:00:00",
          "2024-01-23T00:00:00",
          "2024-01-24T00:00:00",
          "2024-01-25T00:00:00",
          "2024-01-26T00:00:00",
          "2024-01-27T00:00:00",
          "2024-01-28T00:00:00",
          "2024-01-29T00:00:00",
          "2024-01-30T00:00:00",
          "2024-01-31T00:00:00",
          "2024-02-01T00:00:00",
          "2024-02-02T00:00:00",
          "2024-02-03T00:00:00",
          "2024-02-04T00:00:00",
          "2024-02-05T00:00:00",
          "2024-02-06T00:00:00",
          "2024-02-07T00:00:00",
          "2024-02-08T00:00:00",
          "2024-02-09T00:00:00",
          "2024-02-10T00:00:00",
          "2024-02-11T00:00:00",
          "2024-02-12T00:00:00",
          "2024-02-13T00:00:00",
          "2024-02-14T00:00:00",
          "2024-02-15T00:00:00",
          "2024-02-16T00:00:00",
          "2024-02-17T00:00:00",
          "2024-02-18T00:00:00",
          "2024-02-19T00:00:00",
          "2024-02-20T00:00:00",
          "2024-02-21T00:00:00",
          "2024-02-22T00:00:00",
          "2024-02-23T00:00:00",
          "2024-02-24T00:00:00",
          "2024-02-25T00:00:00",
          "2024-02-26T00:00:00",
          "2024-02-27T00:00:00",
          "2024-02-28T00:00:00",
          "2024-02-29T00:00:00",
          "2024-03-01T00:00:00",
          "2024-03-02T00:00:00",
          "2024-03-03T00:00:00",
          "2024-03-04T00:00:00",
          "2024-03-05T00:00:00",
          "2024-03-06T00:00:00",
          "2024-03-07T00:00:00",
          "2024-03-08T00:00:00",
          "2024-03-09T00:00:00",
          "2024-03-10T00:00:00",
          "2024-03-11T00:00:00",
          "2024-03-12T00:00:00",
          "2024-03-13T00:00:00",
          "2024-03-14T00:00:00",
          "2024-03-15T00:00:00",
          "2024-03-16T00:00:00",
          "2024-03-17T00:00:00",
          "2024-03-18T00:00:00",
          "2024-03-19T00:00:00",
          "2024-03-20T00:00:00",
          "2024-03-21T00:00:00",
          "2024-03-22T00:00:00",
          "2024-03-23T00:00:00",
          "2024-03-24T00:00:00",
          "2024-03-25T00:00:00",
          "2024-03-26T00:00:00",
          "2024-03-27T00:00:00",
          "2024-03-28T00:00:00",
          "2024-03-29T00:00:00",
          "2024-03-30T00:00:00",
          "2024-03-31T00:00:00",
          "2024-04-01T00:00:00"
         ],
         "y": [
          0,
          0,
          0,
          0,
          0,
          0,
          0,
          0,
          0,
          0,
          0,
          0,
          0,
          0,
          0,
          0,
          0,
          0,
          0,
          0,
          0,
          0,
          0,
          0,
          0,
          0,
          0,
          0,
          0,
          0,
          0,
          0,
          0,
          0,
          0,
          0,
          0,
          0,
          0,
          0,
          0,
          0,
          0,
          0,
          0,
          0,
          0,
          0,
          0,
          0,
          0,
          0,
          0,
          0,
          0,
          0,
          0,
          0,
          0,
          0,
          0,
          20800000,
          20800000,
          20800000,
          20800000,
          20800000,
          20800000,
          20800000,
          20800000,
          20800000,
          20800000,
          20800000,
          20800000,
          20800000,
          20800000,
          20800000,
          20800000,
          20800000,
          20800000,
          20800000,
          20800000,
          20800000,
          20800000,
          20800000,
          20800000,
          20800000,
          20800000,
          20800000,
          20800000,
          20800000,
          20800000,
          20800000
         ]
        },
        {
         "line": {
          "color": "red"
         },
         "mode": "lines",
         "name": "Forecast",
         "type": "scatter",
         "x": [
          "2024-01-30",
          "2024-01-31",
          "2024-02-01",
          "2024-02-02",
          "2024-02-03",
          "2024-02-04",
          "2024-02-05",
          "2024-02-06",
          "2024-02-07",
          "2024-02-08",
          "2024-02-09",
          "2024-02-10",
          "2024-02-11",
          "2024-02-12",
          "2024-02-13",
          "2024-02-14",
          "2024-02-15",
          "2024-02-16",
          "2024-02-17",
          "2024-02-18",
          "2024-02-19",
          "2024-02-20",
          "2024-02-21",
          "2024-02-22",
          "2024-02-23",
          "2024-02-24",
          "2024-02-25",
          "2024-02-26",
          "2024-02-27",
          "2024-02-28",
          "2024-02-29",
          "2024-03-01",
          "2024-03-02",
          "2024-03-03",
          "2024-03-04",
          "2024-03-05",
          "2024-03-06",
          "2024-03-07",
          "2024-03-08",
          "2024-03-09",
          "2024-03-10",
          "2024-03-11",
          "2024-03-12",
          "2024-03-13",
          "2024-03-14",
          "2024-03-15",
          "2024-03-16",
          "2024-03-17",
          "2024-03-18",
          "2024-03-19",
          "2024-03-20",
          "2024-03-21",
          "2024-03-22",
          "2024-03-23",
          "2024-03-24",
          "2024-03-25",
          "2024-03-26",
          "2024-03-27",
          "2024-03-28",
          "2024-03-29",
          "2024-03-30",
          "2024-03-31",
          "2024-04-01",
          "2024-04-02",
          "2024-04-03",
          "2024-04-04",
          "2024-04-05",
          "2024-04-06",
          "2024-04-07",
          "2024-04-08",
          "2024-04-09",
          "2024-04-10",
          "2024-04-11",
          "2024-04-12",
          "2024-04-13"
         ],
         "y": [
          0.01339690200984478,
          0.0185347069054842,
          0.024894768372178078,
          0.024831438437104225,
          0.02713930234313011,
          0.03181582689285278,
          0.03391790762543678,
          0.01339690200984478,
          0.0185347069054842,
          0.024894768372178078,
          0.024831438437104225,
          0.02713930234313011,
          0.03181582689285278,
          0.03391790762543678,
          0.01339690200984478,
          0.0185347069054842,
          0.024894768372178078,
          0.024831438437104225,
          0.02713930234313011,
          0.03181582689285278,
          0.03391790762543678,
          0.01339690200984478,
          0.0185347069054842,
          0.024894768372178078,
          0.024831438437104225,
          0.02713930234313011,
          0.03181582689285278,
          0.03391790762543678,
          0.01339690200984478,
          0.0185347069054842,
          0.024894768372178078,
          0.024831438437104225,
          0.02713930234313011,
          0.03181582689285278,
          0.03391790762543678,
          14957158,
          12093079,
          10206824,
          8558777,
          8061200,
          7244230.5,
          6699770,
          19590740,
          18294468,
          17533434,
          16792860,
          16639664,
          16065775,
          15518348,
          20670636,
          20454432,
          20471294,
          20404568,
          20231220,
          19819832,
          19152304,
          20474894,
          20457248,
          20213816,
          19950150,
          20106564,
          19661602,
          19885518,
          20800000,
          20800000,
          20800000,
          20800000,
          20800000,
          20800000,
          20800000,
          20800000,
          20800000,
          20800000,
          20800000,
          20800000
         ]
        },
        {
         "fill": "toself",
         "fillcolor": "rgba(0,176,246,0.2)",
         "line": {
          "color": "rgba(255,255,255,0)"
         },
         "name": "Prediction Interval",
         "type": "scatter",
         "x": [
          "2024-01-30",
          "2024-01-31",
          "2024-02-01",
          "2024-02-02",
          "2024-02-03",
          "2024-02-04",
          "2024-02-05",
          "2024-02-06",
          "2024-02-07",
          "2024-02-08",
          "2024-02-09",
          "2024-02-10",
          "2024-02-11",
          "2024-02-12",
          "2024-02-13",
          "2024-02-14",
          "2024-02-15",
          "2024-02-16",
          "2024-02-17",
          "2024-02-18",
          "2024-02-19",
          "2024-02-20",
          "2024-02-21",
          "2024-02-22",
          "2024-02-23",
          "2024-02-24",
          "2024-02-25",
          "2024-02-26",
          "2024-02-27",
          "2024-02-28",
          "2024-02-29",
          "2024-03-01",
          "2024-03-02",
          "2024-03-03",
          "2024-03-04",
          "2024-03-05",
          "2024-03-06",
          "2024-03-07",
          "2024-03-08",
          "2024-03-09",
          "2024-03-10",
          "2024-03-11",
          "2024-03-12",
          "2024-03-13",
          "2024-03-14",
          "2024-03-15",
          "2024-03-16",
          "2024-03-17",
          "2024-03-18",
          "2024-03-19",
          "2024-03-20",
          "2024-03-21",
          "2024-03-22",
          "2024-03-23",
          "2024-03-24",
          "2024-03-25",
          "2024-03-26",
          "2024-03-27",
          "2024-03-28",
          "2024-03-29",
          "2024-03-30",
          "2024-03-31",
          "2024-04-01",
          "2024-04-02",
          "2024-04-03",
          "2024-04-04",
          "2024-04-05",
          "2024-04-06",
          "2024-04-07",
          "2024-04-08",
          "2024-04-09",
          "2024-04-10",
          "2024-04-11",
          "2024-04-12",
          "2024-04-13",
          "2024-04-13",
          "2024-04-12",
          "2024-04-11",
          "2024-04-10",
          "2024-04-09",
          "2024-04-08",
          "2024-04-07",
          "2024-04-06",
          "2024-04-05",
          "2024-04-04",
          "2024-04-03",
          "2024-04-02",
          "2024-04-01",
          "2024-03-31",
          "2024-03-30",
          "2024-03-29",
          "2024-03-28",
          "2024-03-27",
          "2024-03-26",
          "2024-03-25",
          "2024-03-24",
          "2024-03-23",
          "2024-03-22",
          "2024-03-21",
          "2024-03-20",
          "2024-03-19",
          "2024-03-18",
          "2024-03-17",
          "2024-03-16",
          "2024-03-15",
          "2024-03-14",
          "2024-03-13",
          "2024-03-12",
          "2024-03-11",
          "2024-03-10",
          "2024-03-09",
          "2024-03-08",
          "2024-03-07",
          "2024-03-06",
          "2024-03-05",
          "2024-03-04",
          "2024-03-03",
          "2024-03-02",
          "2024-03-01",
          "2024-02-29",
          "2024-02-28",
          "2024-02-27",
          "2024-02-26",
          "2024-02-25",
          "2024-02-24",
          "2024-02-23",
          "2024-02-22",
          "2024-02-21",
          "2024-02-20",
          "2024-02-19",
          "2024-02-18",
          "2024-02-17",
          "2024-02-16",
          "2024-02-15",
          "2024-02-14",
          "2024-02-13",
          "2024-02-12",
          "2024-02-11",
          "2024-02-10",
          "2024-02-09",
          "2024-02-08",
          "2024-02-07",
          "2024-02-06",
          "2024-02-05",
          "2024-02-04",
          "2024-02-03",
          "2024-02-02",
          "2024-02-01",
          "2024-01-31",
          "2024-01-30"
         ],
         "y": [
          8963922.671450274,
          8963922.676588079,
          8963922.68294814,
          8963922.68288481,
          8963922.685192674,
          8963922.689869199,
          8963922.69197128,
          8963922.671450274,
          8963922.676588079,
          8963922.68294814,
          8963922.68288481,
          8963922.685192674,
          8963922.689869199,
          8963922.69197128,
          8963922.671450274,
          8963922.676588079,
          8963922.68294814,
          8963922.68288481,
          8963922.685192674,
          8963922.689869199,
          8963922.69197128,
          8963922.671450274,
          8963922.676588079,
          8963922.68294814,
          8963922.68288481,
          8963922.685192674,
          8963922.689869199,
          8963922.69197128,
          8963922.671450274,
          8963922.676588079,
          8963922.68294814,
          8963922.68288481,
          8963922.685192674,
          8963922.689869199,
          8963922.69197128,
          23921080.658053372,
          21057001.658053372,
          19170746.658053372,
          17522699.658053372,
          17025122.658053372,
          16208153.158053372,
          15663692.658053372,
          28554662.658053372,
          27258390.658053372,
          26497356.658053372,
          25756782.658053372,
          25603586.658053372,
          25029697.658053372,
          24482270.658053372,
          29634558.658053372,
          29418354.658053372,
          29435216.658053372,
          29368490.658053372,
          29195142.658053372,
          28783754.658053372,
          28116226.658053372,
          29438816.658053372,
          29421170.658053372,
          29177738.658053372,
          28914072.658053372,
          29070486.658053372,
          28625524.658053372,
          28849440.658053372,
          22704297.299999993,
          24235740.34999999,
          25165557.49999999,
          26042252.449999988,
          34747979.99592909,
          35442404.070227616,
          35905195.494912304,
          22704297.299999993,
          24235740.34999999,
          25165557.49999999,
          26042252.449999988,
          34747979.99592909,
          6852020.004070896,
          15557747.55,
          16434442.5,
          17364259.650000002,
          18895702.7,
          5694804.505087687,
          6157595.929772375,
          6852020.004070896,
          15557747.55,
          16434442.5,
          17364259.650000002,
          18895702.7,
          10921595.341946628,
          10697679.341946628,
          11142641.341946628,
          10986227.341946628,
          11249893.341946628,
          11493325.341946628,
          11510971.341946628,
          10188381.341946628,
          10855909.341946628,
          11267297.341946628,
          11440645.341946628,
          11507371.341946628,
          11490509.341946628,
          11706713.341946628,
          6554425.341946628,
          7101852.341946628,
          7675741.341946628,
          7828937.341946628,
          8569511.341946628,
          9330545.341946628,
          10626817.341946628,
          -2264152.658053372,
          -1719692.158053372,
          -902722.658053372,
          -405145.65805337206,
          1242901.341946628,
          3129156.341946628,
          5993235.341946628,
          -8963922.624135464,
          -8963922.626237545,
          -8963922.63091407,
          -8963922.633221934,
          -8963922.633158604,
          -8963922.639518665,
          -8963922.64465647,
          -8963922.624135464,
          -8963922.626237545,
          -8963922.63091407,
          -8963922.633221934,
          -8963922.633158604,
          -8963922.639518665,
          -8963922.64465647,
          -8963922.624135464,
          -8963922.626237545,
          -8963922.63091407,
          -8963922.633221934,
          -8963922.633158604,
          -8963922.639518665,
          -8963922.64465647,
          -8963922.624135464,
          -8963922.626237545,
          -8963922.63091407,
          -8963922.633221934,
          -8963922.633158604,
          -8963922.639518665,
          -8963922.64465647,
          -8963922.624135464,
          -8963922.626237545,
          -8963922.63091407,
          -8963922.633221934,
          -8963922.633158604,
          -8963922.639518665,
          -8963922.64465647
         ]
        }
       ],
       "layout": {
        "legend": {
         "orientation": "h",
         "x": 0.5,
         "xanchor": "center",
         "y": 1,
         "yanchor": "bottom"
        },
        "margin": {
         "b": 0,
         "l": 0,
         "r": 0,
         "t": 0
        },
        "template": {
         "data": {
          "bar": [
           {
            "error_x": {
             "color": "#2a3f5f"
            },
            "error_y": {
             "color": "#2a3f5f"
            },
            "marker": {
             "line": {
              "color": "#E5ECF6",
              "width": 0.5
             },
             "pattern": {
              "fillmode": "overlay",
              "size": 10,
              "solidity": 0.2
             }
            },
            "type": "bar"
           }
          ],
          "barpolar": [
           {
            "marker": {
             "line": {
              "color": "#E5ECF6",
              "width": 0.5
             },
             "pattern": {
              "fillmode": "overlay",
              "size": 10,
              "solidity": 0.2
             }
            },
            "type": "barpolar"
           }
          ],
          "carpet": [
           {
            "aaxis": {
             "endlinecolor": "#2a3f5f",
             "gridcolor": "white",
             "linecolor": "white",
             "minorgridcolor": "white",
             "startlinecolor": "#2a3f5f"
            },
            "baxis": {
             "endlinecolor": "#2a3f5f",
             "gridcolor": "white",
             "linecolor": "white",
             "minorgridcolor": "white",
             "startlinecolor": "#2a3f5f"
            },
            "type": "carpet"
           }
          ],
          "choropleth": [
           {
            "colorbar": {
             "outlinewidth": 0,
             "ticks": ""
            },
            "type": "choropleth"
           }
          ],
          "contour": [
           {
            "colorbar": {
             "outlinewidth": 0,
             "ticks": ""
            },
            "colorscale": [
             [
              0,
              "#0d0887"
             ],
             [
              0.1111111111111111,
              "#46039f"
             ],
             [
              0.2222222222222222,
              "#7201a8"
             ],
             [
              0.3333333333333333,
              "#9c179e"
             ],
             [
              0.4444444444444444,
              "#bd3786"
             ],
             [
              0.5555555555555556,
              "#d8576b"
             ],
             [
              0.6666666666666666,
              "#ed7953"
             ],
             [
              0.7777777777777778,
              "#fb9f3a"
             ],
             [
              0.8888888888888888,
              "#fdca26"
             ],
             [
              1,
              "#f0f921"
             ]
            ],
            "type": "contour"
           }
          ],
          "contourcarpet": [
           {
            "colorbar": {
             "outlinewidth": 0,
             "ticks": ""
            },
            "type": "contourcarpet"
           }
          ],
          "heatmap": [
           {
            "colorbar": {
             "outlinewidth": 0,
             "ticks": ""
            },
            "colorscale": [
             [
              0,
              "#0d0887"
             ],
             [
              0.1111111111111111,
              "#46039f"
             ],
             [
              0.2222222222222222,
              "#7201a8"
             ],
             [
              0.3333333333333333,
              "#9c179e"
             ],
             [
              0.4444444444444444,
              "#bd3786"
             ],
             [
              0.5555555555555556,
              "#d8576b"
             ],
             [
              0.6666666666666666,
              "#ed7953"
             ],
             [
              0.7777777777777778,
              "#fb9f3a"
             ],
             [
              0.8888888888888888,
              "#fdca26"
             ],
             [
              1,
              "#f0f921"
             ]
            ],
            "type": "heatmap"
           }
          ],
          "heatmapgl": [
           {
            "colorbar": {
             "outlinewidth": 0,
             "ticks": ""
            },
            "colorscale": [
             [
              0,
              "#0d0887"
             ],
             [
              0.1111111111111111,
              "#46039f"
             ],
             [
              0.2222222222222222,
              "#7201a8"
             ],
             [
              0.3333333333333333,
              "#9c179e"
             ],
             [
              0.4444444444444444,
              "#bd3786"
             ],
             [
              0.5555555555555556,
              "#d8576b"
             ],
             [
              0.6666666666666666,
              "#ed7953"
             ],
             [
              0.7777777777777778,
              "#fb9f3a"
             ],
             [
              0.8888888888888888,
              "#fdca26"
             ],
             [
              1,
              "#f0f921"
             ]
            ],
            "type": "heatmapgl"
           }
          ],
          "histogram": [
           {
            "marker": {
             "pattern": {
              "fillmode": "overlay",
              "size": 10,
              "solidity": 0.2
             }
            },
            "type": "histogram"
           }
          ],
          "histogram2d": [
           {
            "colorbar": {
             "outlinewidth": 0,
             "ticks": ""
            },
            "colorscale": [
             [
              0,
              "#0d0887"
             ],
             [
              0.1111111111111111,
              "#46039f"
             ],
             [
              0.2222222222222222,
              "#7201a8"
             ],
             [
              0.3333333333333333,
              "#9c179e"
             ],
             [
              0.4444444444444444,
              "#bd3786"
             ],
             [
              0.5555555555555556,
              "#d8576b"
             ],
             [
              0.6666666666666666,
              "#ed7953"
             ],
             [
              0.7777777777777778,
              "#fb9f3a"
             ],
             [
              0.8888888888888888,
              "#fdca26"
             ],
             [
              1,
              "#f0f921"
             ]
            ],
            "type": "histogram2d"
           }
          ],
          "histogram2dcontour": [
           {
            "colorbar": {
             "outlinewidth": 0,
             "ticks": ""
            },
            "colorscale": [
             [
              0,
              "#0d0887"
             ],
             [
              0.1111111111111111,
              "#46039f"
             ],
             [
              0.2222222222222222,
              "#7201a8"
             ],
             [
              0.3333333333333333,
              "#9c179e"
             ],
             [
              0.4444444444444444,
              "#bd3786"
             ],
             [
              0.5555555555555556,
              "#d8576b"
             ],
             [
              0.6666666666666666,
              "#ed7953"
             ],
             [
              0.7777777777777778,
              "#fb9f3a"
             ],
             [
              0.8888888888888888,
              "#fdca26"
             ],
             [
              1,
              "#f0f921"
             ]
            ],
            "type": "histogram2dcontour"
           }
          ],
          "mesh3d": [
           {
            "colorbar": {
             "outlinewidth": 0,
             "ticks": ""
            },
            "type": "mesh3d"
           }
          ],
          "parcoords": [
           {
            "line": {
             "colorbar": {
              "outlinewidth": 0,
              "ticks": ""
             }
            },
            "type": "parcoords"
           }
          ],
          "pie": [
           {
            "automargin": true,
            "type": "pie"
           }
          ],
          "scatter": [
           {
            "fillpattern": {
             "fillmode": "overlay",
             "size": 10,
             "solidity": 0.2
            },
            "type": "scatter"
           }
          ],
          "scatter3d": [
           {
            "line": {
             "colorbar": {
              "outlinewidth": 0,
              "ticks": ""
             }
            },
            "marker": {
             "colorbar": {
              "outlinewidth": 0,
              "ticks": ""
             }
            },
            "type": "scatter3d"
           }
          ],
          "scattercarpet": [
           {
            "marker": {
             "colorbar": {
              "outlinewidth": 0,
              "ticks": ""
             }
            },
            "type": "scattercarpet"
           }
          ],
          "scattergeo": [
           {
            "marker": {
             "colorbar": {
              "outlinewidth": 0,
              "ticks": ""
             }
            },
            "type": "scattergeo"
           }
          ],
          "scattergl": [
           {
            "marker": {
             "colorbar": {
              "outlinewidth": 0,
              "ticks": ""
             }
            },
            "type": "scattergl"
           }
          ],
          "scattermapbox": [
           {
            "marker": {
             "colorbar": {
              "outlinewidth": 0,
              "ticks": ""
             }
            },
            "type": "scattermapbox"
           }
          ],
          "scatterpolar": [
           {
            "marker": {
             "colorbar": {
              "outlinewidth": 0,
              "ticks": ""
             }
            },
            "type": "scatterpolar"
           }
          ],
          "scatterpolargl": [
           {
            "marker": {
             "colorbar": {
              "outlinewidth": 0,
              "ticks": ""
             }
            },
            "type": "scatterpolargl"
           }
          ],
          "scatterternary": [
           {
            "marker": {
             "colorbar": {
              "outlinewidth": 0,
              "ticks": ""
             }
            },
            "type": "scatterternary"
           }
          ],
          "surface": [
           {
            "colorbar": {
             "outlinewidth": 0,
             "ticks": ""
            },
            "colorscale": [
             [
              0,
              "#0d0887"
             ],
             [
              0.1111111111111111,
              "#46039f"
             ],
             [
              0.2222222222222222,
              "#7201a8"
             ],
             [
              0.3333333333333333,
              "#9c179e"
             ],
             [
              0.4444444444444444,
              "#bd3786"
             ],
             [
              0.5555555555555556,
              "#d8576b"
             ],
             [
              0.6666666666666666,
              "#ed7953"
             ],
             [
              0.7777777777777778,
              "#fb9f3a"
             ],
             [
              0.8888888888888888,
              "#fdca26"
             ],
             [
              1,
              "#f0f921"
             ]
            ],
            "type": "surface"
           }
          ],
          "table": [
           {
            "cells": {
             "fill": {
              "color": "#EBF0F8"
             },
             "line": {
              "color": "white"
             }
            },
            "header": {
             "fill": {
              "color": "#C8D4E3"
             },
             "line": {
              "color": "white"
             }
            },
            "type": "table"
           }
          ]
         },
         "layout": {
          "annotationdefaults": {
           "arrowcolor": "#2a3f5f",
           "arrowhead": 0,
           "arrowwidth": 1
          },
          "autotypenumbers": "strict",
          "coloraxis": {
           "colorbar": {
            "outlinewidth": 0,
            "ticks": ""
           }
          },
          "colorscale": {
           "diverging": [
            [
             0,
             "#8e0152"
            ],
            [
             0.1,
             "#c51b7d"
            ],
            [
             0.2,
             "#de77ae"
            ],
            [
             0.3,
             "#f1b6da"
            ],
            [
             0.4,
             "#fde0ef"
            ],
            [
             0.5,
             "#f7f7f7"
            ],
            [
             0.6,
             "#e6f5d0"
            ],
            [
             0.7,
             "#b8e186"
            ],
            [
             0.8,
             "#7fbc41"
            ],
            [
             0.9,
             "#4d9221"
            ],
            [
             1,
             "#276419"
            ]
           ],
           "sequential": [
            [
             0,
             "#0d0887"
            ],
            [
             0.1111111111111111,
             "#46039f"
            ],
            [
             0.2222222222222222,
             "#7201a8"
            ],
            [
             0.3333333333333333,
             "#9c179e"
            ],
            [
             0.4444444444444444,
             "#bd3786"
            ],
            [
             0.5555555555555556,
             "#d8576b"
            ],
            [
             0.6666666666666666,
             "#ed7953"
            ],
            [
             0.7777777777777778,
             "#fb9f3a"
            ],
            [
             0.8888888888888888,
             "#fdca26"
            ],
            [
             1,
             "#f0f921"
            ]
           ],
           "sequentialminus": [
            [
             0,
             "#0d0887"
            ],
            [
             0.1111111111111111,
             "#46039f"
            ],
            [
             0.2222222222222222,
             "#7201a8"
            ],
            [
             0.3333333333333333,
             "#9c179e"
            ],
            [
             0.4444444444444444,
             "#bd3786"
            ],
            [
             0.5555555555555556,
             "#d8576b"
            ],
            [
             0.6666666666666666,
             "#ed7953"
            ],
            [
             0.7777777777777778,
             "#fb9f3a"
            ],
            [
             0.8888888888888888,
             "#fdca26"
            ],
            [
             1,
             "#f0f921"
            ]
           ]
          },
          "colorway": [
           "#636efa",
           "#EF553B",
           "#00cc96",
           "#ab63fa",
           "#FFA15A",
           "#19d3f3",
           "#FF6692",
           "#B6E880",
           "#FF97FF",
           "#FECB52"
          ],
          "font": {
           "color": "#2a3f5f"
          },
          "geo": {
           "bgcolor": "white",
           "lakecolor": "white",
           "landcolor": "#E5ECF6",
           "showlakes": true,
           "showland": true,
           "subunitcolor": "white"
          },
          "hoverlabel": {
           "align": "left"
          },
          "hovermode": "closest",
          "mapbox": {
           "style": "light"
          },
          "paper_bgcolor": "white",
          "plot_bgcolor": "#E5ECF6",
          "polar": {
           "angularaxis": {
            "gridcolor": "white",
            "linecolor": "white",
            "ticks": ""
           },
           "bgcolor": "#E5ECF6",
           "radialaxis": {
            "gridcolor": "white",
            "linecolor": "white",
            "ticks": ""
           }
          },
          "scene": {
           "xaxis": {
            "backgroundcolor": "#E5ECF6",
            "gridcolor": "white",
            "gridwidth": 2,
            "linecolor": "white",
            "showbackground": true,
            "ticks": "",
            "zerolinecolor": "white"
           },
           "yaxis": {
            "backgroundcolor": "#E5ECF6",
            "gridcolor": "white",
            "gridwidth": 2,
            "linecolor": "white",
            "showbackground": true,
            "ticks": "",
            "zerolinecolor": "white"
           },
           "zaxis": {
            "backgroundcolor": "#E5ECF6",
            "gridcolor": "white",
            "gridwidth": 2,
            "linecolor": "white",
            "showbackground": true,
            "ticks": "",
            "zerolinecolor": "white"
           }
          },
          "shapedefaults": {
           "line": {
            "color": "#2a3f5f"
           }
          },
          "ternary": {
           "aaxis": {
            "gridcolor": "white",
            "linecolor": "white",
            "ticks": ""
           },
           "baxis": {
            "gridcolor": "white",
            "linecolor": "white",
            "ticks": ""
           },
           "bgcolor": "#E5ECF6",
           "caxis": {
            "gridcolor": "white",
            "linecolor": "white",
            "ticks": ""
           }
          },
          "title": {
           "x": 0.05
          },
          "xaxis": {
           "automargin": true,
           "gridcolor": "white",
           "linecolor": "white",
           "ticks": "",
           "title": {
            "standoff": 15
           },
           "zerolinecolor": "white",
           "zerolinewidth": 2
          },
          "yaxis": {
           "automargin": true,
           "gridcolor": "white",
           "linecolor": "white",
           "ticks": "",
           "title": {
            "standoff": 15
           },
           "zerolinecolor": "white",
           "zerolinewidth": 2
          }
         }
        },
        "yaxis": {
         "range": [
          0,
          null
         ]
        }
       }
      }
     },
     "metadata": {},
     "output_type": "display_data"
    }
   ],
   "source": [
    "import plotly.graph_objects as go\n",
    "# Create a plotly figure\n",
    "def display_plot(df,forecast_df,level):\n",
    "    fig = go.Figure()\n",
    "    fig.add_trace(\n",
    "        go.Scatter(\n",
    "            x=df['timestamp'], y=df['balance'], mode='lines', \n",
    "            line=dict(color='blue'), name='Actual Value'\n",
    "        ),\n",
    "    )\n",
    "    fig.add_trace(\n",
    "        go.Scatter(\n",
    "            x=forecast_df['timestamp'], y=forecast_df['TimeGPT'], mode='lines', \n",
    "            line=dict(color='red'), name='Forecast',\n",
    "        ),\n",
    "    )\n",
    "    lo = forecast_df[f'TimeGPT-lo-{level}'].to_list()\n",
    "    hi = forecast_df[f'TimeGPT-hi-{level}'].to_list()\n",
    "    ds = forecast_df['timestamp'].to_list()\n",
    "    fig.add_trace(\n",
    "        go.Scatter(\n",
    "            x=ds + ds[::-1],  # X coordinates for the filled area.\n",
    "            y=hi + lo[::-1],  # Y coordinates for the filled area.\n",
    "            fill='toself',  # The area under the trace is filled.\n",
    "            fillcolor='rgba(0,176,246,0.2)',  # The fill color.\n",
    "            line_color='rgba(255,255,255,0)',  # The line color.\n",
    "            #showlegend=False,  # The trace is not added to the legend.\n",
    "            name='Prediction Interval',\n",
    "        )\n",
    "    )\n",
    "    fig.update_layout(\n",
    "        #title='Time Series ',#+selected_uid,\n",
    "        #xaxis_title='Date',\n",
    "        #yaxis_title='Value',\n",
    "        margin=dict(l=0, r=0, t=0, b=0),  # Suppression des marges\n",
    "        yaxis=dict(range=[0, None]),\n",
    "        legend=dict(\n",
    "        orientation=\"h\",  # Orientation horizontale\n",
    "        yanchor=\"bottom\", # Ancrage en bas\n",
    "        y=1,              # Positionnement au-dessus de la figure\n",
    "        xanchor=\"center\", # Ancrage au centre\n",
    "        x=0.5             # Centré horizontalement\n",
    "    )\n",
    "    )\n",
    "    # Show the plot\n",
    "    fig.show()\n",
    "    #st.plotly_chart(fig)\n",
    "display_plot(expended_balance,timegpt_fcst_df,90)"
   ]
  },
  {
   "cell_type": "code",
   "execution_count": null,
   "metadata": {},
   "outputs": [],
   "source": []
  }
 ],
 "metadata": {
  "kernelspec": {
   "display_name": "Python 3",
   "language": "python",
   "name": "python3"
  },
  "language_info": {
   "codemirror_mode": {
    "name": "ipython",
    "version": 3
   },
   "file_extension": ".py",
   "mimetype": "text/x-python",
   "name": "python",
   "nbconvert_exporter": "python",
   "pygments_lexer": "ipython3",
   "version": "3.11.7"
  }
 },
 "nbformat": 4,
 "nbformat_minor": 2
}
