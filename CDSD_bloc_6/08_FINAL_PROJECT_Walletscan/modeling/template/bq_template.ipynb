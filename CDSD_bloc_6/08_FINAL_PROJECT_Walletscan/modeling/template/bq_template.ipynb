{
 "cells": [
  {
   "cell_type": "code",
   "execution_count": null,
   "metadata": {},
   "outputs": [],
   "source": [
    "# 1. Install Google cloud CLI\n",
    "# Medium Article >> https://jansutris10.medium.com/install-google-cloud-sdk-using-homebrew-on-mac-2952c9c7b5a1\n",
    "# https://cloud.google.com/sdk/docs/install?hl=fr\n",
    "\n",
    "# 2. Install BigQuery client >> https://cloud.google.com/bigquery/docs/reference/libraries?hl=fr\n",
    "# pip install --upgrade google-cloud-bigquery\n",
    "\n",
    "# 3. Authenticate through the gcloud CLI\n",
    "# gcloud auth application-default login\n",
    "\n",
    "\n",
    "# Install bq_helper >> https://github.com/SohierDane/BigQuery_Helper?tab=readme-ov-file#installation\n",
    "# !pip install -e git+https://github.com/SohierDane/BigQuery_Helper#egg=bq_helper\n",
    "# !pip install google.cloud\n",
    "\n",
    "\n",
    "\n"
   ]
  },
  {
   "cell_type": "code",
   "execution_count": 5,
   "metadata": {},
   "outputs": [],
   "source": [
    "import numpy as np\n",
    "import pandas as pd\n",
    "import matplotlib.pyplot as plt\n",
    "\n",
    "from datetime import date\n",
    "today = date.today()"
   ]
  },
  {
   "cell_type": "code",
   "execution_count": null,
   "metadata": {},
   "outputs": [
    {
     "ename": "",
     "evalue": "",
     "output_type": "error",
     "traceback": [
      "\u001b[1;31mLes cellules en cours d’exécution avec Python 3.11.6 nécessitent le package ipykernel.\n",
      "\u001b[1;31mExécutez la commande suivante pour installer 'ipykernel' dans l’environnement Python. \n",
      "\u001b[1;31mCommande : '/opt/homebrew/bin/python3 -m pip install ipykernel -U --user --force-reinstall'"
     ]
    }
   ],
   "source": [
    "from bq_helper import BigQueryHelper\n",
    "\n",
    "# Helper object for BigQuery Ethereum dataset\n",
    "eth = BigQueryHelper(active_project=\"bigquery-public-data\", \n",
    "                     dataset_name=\"crypto_ethereum\")"
   ]
  }
 ],
 "metadata": {
  "kernelspec": {
   "display_name": "Python 3",
   "language": "python",
   "name": "python3"
  },
  "language_info": {
   "codemirror_mode": {
    "name": "ipython",
    "version": 3
   },
   "file_extension": ".py",
   "mimetype": "text/x-python",
   "name": "python",
   "nbconvert_exporter": "python",
   "pygments_lexer": "ipython3",
   "version": "3.11.6"
  }
 },
 "nbformat": 4,
 "nbformat_minor": 2
}
