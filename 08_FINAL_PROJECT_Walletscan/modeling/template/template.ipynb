{
 "cells": [
  {
   "cell_type": "code",
   "execution_count": 1,
   "metadata": {},
   "outputs": [],
   "source": [
    "import time\n",
    "import mlflow\n",
    "import pandas as pd\n",
    "from sklearn.model_selection import train_test_split\n",
    "from mlflow.models.signature import infer_signature\n",
    "from xgboost import XGBRegressor\n",
    "from sklearn.ensemble import GradientBoostingRegressor\n",
    "from sklearn.ensemble import RandomForestRegressor\n",
    "from sklearn.linear_model import Ridge\n",
    "from xgboost import XGBRegressor\n",
    "from sklearn.preprocessing import OneHotEncoder, StandardScaler\n",
    "from sklearn.compose import ColumnTransformer\n",
    "from sklearn.pipeline import Pipeline\n",
    "from sklearn.metrics import (\n",
    "    accuracy_score,\n",
    "    f1_score,\n",
    "    ConfusionMatrixDisplay,\n",
    "    RocCurveDisplay,\n",
    "    classification_report\n",
    ")"
   ]
  },
  {
   "cell_type": "markdown",
   "metadata": {},
   "source": [
    "# Train a model and send it to MLflow"
   ]
  },
  {
   "cell_type": "code",
   "execution_count": 5,
   "metadata": {},
   "outputs": [
    {
     "name": "stdout",
     "output_type": "stream",
     "text": [
      "Experiment ID: 38\n",
      "Artifact Location: mlflow-artifacts:/38\n",
      "Found numeric features  ['mileage', 'engine_power']\n",
      "Found categorical features  ['model_key', 'fuel', 'paint_color', 'car_type', 'private_parking_available', 'has_gps', 'has_air_conditioning', 'automatic_car', 'has_getaround_connect', 'has_speed_regulator', 'winter_tires']\n"
     ]
    },
    {
     "name": "stderr",
     "output_type": "stream",
     "text": [
      "2024/06/03 18:47:22 WARNING mlflow.utils.autologging_utils: MLflow autologging encountered a warning: \"/Users/arthurblanchon/Library/Python/3.9/lib/python/site-packages/mlflow/types/utils.py:394: UserWarning: Hint: Inferred schema contains integer column(s). Integer columns in Python cannot represent missing values. If your input data contains missing values at inference time, it will be encoded as floats and will cause a schema enforcement error. The best way to avoid this problem is to infer the model schema based on a realistic data sample (training dataset) that includes missing values. Alternatively, you can declare integer columns as doubles (float64) whenever these columns may have missing values. See `Handling Integers With Missing Values <https://www.mlflow.org/docs/latest/models.html#handling-integers-with-missing-values>`_ for more details.\"\n",
      "2024/06/03 18:47:28 WARNING mlflow.utils.autologging_utils: MLflow autologging encountered a warning: \"/Users/arthurblanchon/Library/Python/3.9/lib/python/site-packages/mlflow/types/utils.py:394: UserWarning: Hint: Inferred schema contains integer column(s). Integer columns in Python cannot represent missing values. If your input data contains missing values at inference time, it will be encoded as floats and will cause a schema enforcement error. The best way to avoid this problem is to infer the model schema based on a realistic data sample (training dataset) that includes missing values. Alternatively, you can declare integer columns as doubles (float64) whenever these columns may have missing values. See `Handling Integers With Missing Values <https://www.mlflow.org/docs/latest/models.html#handling-integers-with-missing-values>`_ for more details.\"\n"
     ]
    },
    {
     "name": "stdout",
     "output_type": "stream",
     "text": [
      "...Done!\n",
      "---Total training time: 18.527926921844482\n",
      "train_score 0.9417796329507986\n"
     ]
    },
    {
     "name": "stderr",
     "output_type": "stream",
     "text": [
      "/Users/arthurblanchon/Library/Python/3.9/lib/python/site-packages/sklearn/preprocessing/_encoders.py:241: UserWarning: Found unknown categories in columns [0] during transform. These unknown categories will be encoded as all zeros\n",
      "  warnings.warn(\n"
     ]
    },
    {
     "name": "stdout",
     "output_type": "stream",
     "text": [
      "test_score 0.7119470671202109\n"
     ]
    }
   ],
   "source": [
    "# mlflow server connection\n",
    "mlflow.set_tracking_uri(\"https://mlflow-s3-5c46c0d9d46b.herokuapp.com/\")\n",
    "#mlflow.set_tracking_uri(\"../mlruns\")\n",
    "EXPERIMENT_NAME=\"demo_experiment\"\n",
    "mlflow.set_experiment(EXPERIMENT_NAME)\n",
    "experiment = mlflow.get_experiment_by_name(EXPERIMENT_NAME)\n",
    "if experiment:\n",
    "    print(\"Experiment ID:\", experiment.experiment_id)\n",
    "    print(\"Artifact Location:\", experiment.artifact_location)\n",
    "else:\n",
    "    print(f\"Experiment '{EXPERIMENT_NAME}' does not exist.\")\n",
    "\n",
    "# start experiment time tracking\n",
    "start_time = time.time()\n",
    "mlflow.sklearn.autolog(log_models=False)\n",
    "\n",
    "# load dataset for training\n",
    "dataset = pd.read_csv('template_dataset.csv').drop('Unnamed: 0', axis=1)\n",
    "Y = dataset['rental_price_per_day']\n",
    "X = dataset.drop('rental_price_per_day', axis=1)\n",
    "X_train, X_test, Y_train, Y_test = train_test_split(X,Y,test_size=0.2, random_state=1)\n",
    "\n",
    "# list numeric/categorical columns\n",
    "numeric_features = []\n",
    "categorical_features = []\n",
    "for i, t in X.dtypes.items():\n",
    "    if (\"float\" in str(t)) or (\"int\" in str(t)):\n",
    "        numeric_features.append(i)\n",
    "    else:\n",
    "        categorical_features.append(i)\n",
    "# list check\n",
    "print(\"Found numeric features \", numeric_features)\n",
    "print(\"Found categorical features \", categorical_features)\n",
    "\n",
    "# assemble the model with preprocessing\n",
    "preprocessor = ColumnTransformer(\n",
    "    transformers=[\n",
    "        (\"num\", StandardScaler(), numeric_features),\n",
    "        (\"cat\", OneHotEncoder(drop='first', handle_unknown='ignore'), categorical_features),\n",
    "    ]\n",
    ")\n",
    "model = Pipeline(steps=[\n",
    "    (\"preprocessor\", preprocessor),\n",
    "    (\"regressor\", XGBRegressor())\n",
    "])\n",
    "\n",
    "# train the model\n",
    "with mlflow.start_run(experiment_id = experiment.experiment_id):\n",
    "    model.fit(X_train, Y_train)\n",
    "    predictions = model.predict(X_train)\n",
    "\n",
    "    mlflow.sklearn.log_model(model, \"xgboost\")\n",
    "    '''mlflow.sklearn.log_model(\n",
    "        sk_model=model,\n",
    "        artifact_path=\"getaround_price_prediction\",\n",
    "        registered_model_name=\"xgboost\",\n",
    "        signature=infer_signature(X_train, predictions)\n",
    "    )'''\n",
    "\n",
    "print(\"...Done!\")\n",
    "print(f\"---Total training time: {time.time()-start_time}\")\n",
    "print('train_score', model.score(X_train, Y_train))\n",
    "print('test_score', model.score(X_test, Y_test))\n",
    "\n",
    "mlflow.end_run()"
   ]
  },
  {
   "cell_type": "markdown",
   "metadata": {},
   "source": [
    "# Run prediction using a model from MLflow"
   ]
  },
  {
   "cell_type": "code",
   "execution_count": 6,
   "metadata": {},
   "outputs": [
    {
     "name": "stdout",
     "output_type": "stream",
     "text": [
      "['Citroën', 183297, 120, 'diesel', 'white', 'convertible', False, False, False, False, True, False, True, 101]\n"
     ]
    },
    {
     "data": {
      "text/plain": [
       "'features'"
      ]
     },
     "metadata": {},
     "output_type": "display_data"
    },
    {
     "data": {
      "text/html": [
       "<div>\n",
       "<style scoped>\n",
       "    .dataframe tbody tr th:only-of-type {\n",
       "        vertical-align: middle;\n",
       "    }\n",
       "\n",
       "    .dataframe tbody tr th {\n",
       "        vertical-align: top;\n",
       "    }\n",
       "\n",
       "    .dataframe thead th {\n",
       "        text-align: right;\n",
       "    }\n",
       "</style>\n",
       "<table border=\"1\" class=\"dataframe\">\n",
       "  <thead>\n",
       "    <tr style=\"text-align: right;\">\n",
       "      <th></th>\n",
       "      <th>model_key</th>\n",
       "      <th>mileage</th>\n",
       "      <th>engine_power</th>\n",
       "      <th>fuel</th>\n",
       "      <th>paint_color</th>\n",
       "      <th>car_type</th>\n",
       "      <th>private_parking_available</th>\n",
       "      <th>has_gps</th>\n",
       "      <th>has_air_conditioning</th>\n",
       "      <th>automatic_car</th>\n",
       "      <th>has_getaround_connect</th>\n",
       "      <th>has_speed_regulator</th>\n",
       "      <th>winter_tires</th>\n",
       "      <th>rental_price_per_day</th>\n",
       "    </tr>\n",
       "  </thead>\n",
       "  <tbody>\n",
       "    <tr>\n",
       "      <th>0</th>\n",
       "      <td>Citroën</td>\n",
       "      <td>183297</td>\n",
       "      <td>120</td>\n",
       "      <td>diesel</td>\n",
       "      <td>white</td>\n",
       "      <td>convertible</td>\n",
       "      <td>False</td>\n",
       "      <td>False</td>\n",
       "      <td>False</td>\n",
       "      <td>False</td>\n",
       "      <td>True</td>\n",
       "      <td>False</td>\n",
       "      <td>True</td>\n",
       "      <td>101</td>\n",
       "    </tr>\n",
       "  </tbody>\n",
       "</table>\n",
       "</div>"
      ],
      "text/plain": [
       "  model_key  mileage  engine_power    fuel paint_color     car_type  \\\n",
       "0   Citroën   183297           120  diesel       white  convertible   \n",
       "\n",
       "   private_parking_available  has_gps  has_air_conditioning  automatic_car  \\\n",
       "0                      False    False                 False          False   \n",
       "\n",
       "   has_getaround_connect  has_speed_regulator  winter_tires  \\\n",
       "0                   True                False          True   \n",
       "\n",
       "   rental_price_per_day  \n",
       "0                   101  "
      ]
     },
     "metadata": {},
     "output_type": "display_data"
    },
    {
     "name": "stderr",
     "output_type": "stream",
     "text": [
      "/Users/arthurblanchon/Library/Python/3.9/lib/python/site-packages/tqdm/auto.py:21: TqdmWarning: IProgress not found. Please update jupyter and ipywidgets. See https://ipywidgets.readthedocs.io/en/stable/user_install.html\n",
      "  from .autonotebook import tqdm as notebook_tqdm\n",
      "Downloading artifacts: 100%|██████████| 9/9 [00:02<00:00,  3.25it/s]\n",
      "2024/06/03 18:48:36 WARNING mlflow.utils.autologging_utils: MLflow autologging encountered a warning: \"/Users/arthurblanchon/Library/Python/3.9/lib/python/site-packages/mlflow/types/utils.py:394: UserWarning: Hint: Inferred schema contains integer column(s). Integer columns in Python cannot represent missing values. If your input data contains missing values at inference time, it will be encoded as floats and will cause a schema enforcement error. The best way to avoid this problem is to infer the model schema based on a realistic data sample (training dataset) that includes missing values. Alternatively, you can declare integer columns as doubles (float64) whenever these columns may have missing values. See `Handling Integers With Missing Values <https://www.mlflow.org/docs/latest/models.html#handling-integers-with-missing-values>`_ for more details.\"\n"
     ]
    },
    {
     "name": "stdout",
     "output_type": "stream",
     "text": [
      "prediction [110.788]\n"
     ]
    },
    {
     "data": {
      "text/plain": [
       "{'prediction': 110.78800201416016}"
      ]
     },
     "execution_count": 6,
     "metadata": {},
     "output_type": "execute_result"
    }
   ],
   "source": [
    "mlflow.set_tracking_uri(\"https://mlflow-s3-5c46c0d9d46b.herokuapp.com/\")\n",
    "# Read data \n",
    "input = dataset.loc[2].to_list()    \n",
    "print(input)\n",
    "\n",
    "columns = ['model_key', 'mileage', 'engine_power', 'fuel', 'paint_color',\n",
    "       'car_type', 'private_parking_available', 'has_gps',\n",
    "       'has_air_conditioning', 'automatic_car', 'has_getaround_connect',\n",
    "       'has_speed_regulator', 'winter_tires', 'rental_price_per_day']\n",
    "features = pd.DataFrame([input], \n",
    "                        columns=columns,\n",
    "                        )\n",
    "display('features',features)\n",
    "\n",
    "logged_model = 'runs:/2d469d9db04b4bb7b63c8ec9c8aae5c2/xgboost'\n",
    "#logged_model = f'logged_models/{EXPERIMENT_NAME}'\n",
    "\n",
    "# Load model as a PyFuncModel.\n",
    "loaded_model = mlflow.pyfunc.load_model(logged_model)\n",
    "\n",
    "prediction = loaded_model.predict(features)\n",
    "print('prediction',prediction)\n",
    "\n",
    "# Format response\n",
    "response = {\"prediction\": prediction.tolist()[0]}\n",
    "response"
   ]
  },
  {
   "cell_type": "markdown",
   "metadata": {},
   "source": [
    "# Download model from MLflow server to local folder\n",
    "\n",
    "This is useful to COPY the model in the DOCKER image we want to run the API"
   ]
  },
  {
   "cell_type": "code",
   "execution_count": 7,
   "metadata": {},
   "outputs": [
    {
     "name": "stderr",
     "output_type": "stream",
     "text": [
      "Downloading artifacts: 100%|██████████| 9/9 [00:03<00:00,  2.32it/s]"
     ]
    },
    {
     "name": "stdout",
     "output_type": "stream",
     "text": [
      "Artifacts downloaded in: logged_models\n"
     ]
    },
    {
     "name": "stderr",
     "output_type": "stream",
     "text": [
      "\n"
     ]
    }
   ],
   "source": [
    "import os\n",
    "from mlflow.tracking import MlflowClient\n",
    "\n",
    "# Initialize MLflow client\n",
    "mlflow.set_tracking_uri(\"https://mlflow-s3-5c46c0d9d46b.herokuapp.com/\")\n",
    "client = MlflowClient()\n",
    "\n",
    "# Create the local directory if it doesn't exist\n",
    "local_dir = \"logged_models\"\n",
    "if not os.path.exists(local_dir):\n",
    "    os.mkdir(local_dir)\n",
    "\n",
    "# Download the artifact to local storage >> Change Artifact_id & Model_name below\n",
    "local_path = client.download_artifacts('2d469d9db04b4bb7b63c8ec9c8aae5c2', \"xgboost\", local_dir)\n",
    "print(f\"Artifacts downloaded in: {local_dir}\")"
   ]
  },
  {
   "cell_type": "code",
   "execution_count": null,
   "metadata": {},
   "outputs": [],
   "source": []
  }
 ],
 "metadata": {
  "kernelspec": {
   "display_name": "Python 3",
   "language": "python",
   "name": "python3"
  },
  "language_info": {
   "codemirror_mode": {
    "name": "ipython",
    "version": 3
   },
   "file_extension": ".py",
   "mimetype": "text/x-python",
   "name": "python",
   "nbconvert_exporter": "python",
   "pygments_lexer": "ipython3",
   "version": "3.9.6"
  }
 },
 "nbformat": 4,
 "nbformat_minor": 2
}
