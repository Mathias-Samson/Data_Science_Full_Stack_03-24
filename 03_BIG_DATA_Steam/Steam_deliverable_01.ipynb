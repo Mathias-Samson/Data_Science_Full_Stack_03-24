{
 "cells": [
  {
   "cell_type": "markdown",
   "metadata": {},
   "source": [
    "### Notebook link on databricks :\n",
    "#### https://databricks-prod-cloudfront.cloud.databricks.com/public/4027ec902e239c93eaaa8714f173bcfc/6487540177752058/1445996215453659/2931679249721832/latest.html"
   ]
  },
  {
   "cell_type": "code",
   "execution_count": null,
   "metadata": {},
   "outputs": [],
   "source": [
    "import pandas as pd\n",
    "from pyspark.sql import functions as F\n",
    "\n",
    "steam = spark.read.json('s3://full-stack-bigdata-datasets/Big_Data/Project_Steam/steam_game_output.json')"
   ]
  },
  {
   "cell_type": "markdown",
   "metadata": {},
   "source": [
    "# First data visualisation"
   ]
  },
  {
   "cell_type": "code",
   "execution_count": null,
   "metadata": {},
   "outputs": [],
   "source": [
    "steam.show()"
   ]
  },
  {
   "cell_type": "code",
   "execution_count": null,
   "metadata": {},
   "outputs": [],
   "source": [
    "steam.select('data').take(1)"
   ]
  },
  {
   "cell_type": "code",
   "execution_count": null,
   "metadata": {},
   "outputs": [],
   "source": [
    "print(steam.count())\n",
    "print(steam.select('id').distinct().count())\n",
    "print(steam.select('data.appid').distinct().count())\n",
    "print(steam.filter(F.col('data.appid') != F.col('id')).count())"
   ]
  },
  {
   "cell_type": "code",
   "execution_count": null,
   "metadata": {},
   "outputs": [],
   "source": [
    "#\"id\" initial column contains the same info that data[\"appid\"]. We can dive one level into the nested data frame and make our analysis on this.\n",
    "\n",
    "steam_2 = steam.select('data')\n",
    "steam_2.printSchema()"
   ]
  },
  {
   "cell_type": "code",
   "execution_count": null,
   "metadata": {},
   "outputs": [],
   "source": [
    "steam_2.show()"
   ]
  },
  {
   "cell_type": "markdown",
   "metadata": {},
   "source": [
    "## Macro level analysis"
   ]
  },
  {
   "cell_type": "code",
   "execution_count": null,
   "metadata": {},
   "outputs": [],
   "source": [
    "#1 Which publisher has released the most games on Steam?\n",
    "#  Grouping by publisher and counting occurences.\n",
    "\n",
    "publisher_occurence = steam_2.groupBy('data.publisher').count().orderBy('count',ascending=False)\n",
    "display(publisher_occurence.take(20))\n",
    "\n",
    "## Bar"
   ]
  },
  {
   "cell_type": "code",
   "execution_count": null,
   "metadata": {},
   "outputs": [],
   "source": [
    "#2 What are the best rated games ?\n",
    "#  Absolute count of positive rates per game\n",
    "\n",
    "best_rated_games_abs = steam_2.orderBy(\"data.positive\",ascending=False).select(\"data.name\",\"data.positive\")\n",
    "display(best_rated_games_abs.take(20))"
   ]
  },
  {
   "cell_type": "code",
   "execution_count": null,
   "metadata": {},
   "outputs": [],
   "source": [
    "#  Proportionally most liked games (among rated + 100000 times)\n",
    "\n",
    "preprocess_rating = steam_2 \\\n",
    "    .withColumn(\"int_positive\", F.col(\"data.positive\").cast(\"int\")) \\\n",
    "    .withColumn(\"int_negative\", F.col(\"data.negative\").cast(\"int\")) \\\n",
    "    .withColumn(\"rating_ratio\", F.col(\"int_positive\")/(F.col(\"int_positive\")+F.col(\"int_negative\"))) \\\n",
    "    .select(\"data.name\",\"int_positive\",\"int_negative\",\"rating_ratio\")\n",
    "preprocess_rating.show(5)\n",
    "\n",
    "best_rated_games_prop = preprocess_rating \\\n",
    "    .filter((F.col(\"int_positive\")+F.col(\"int_negative\")) > 100_000) \\\n",
    "    .orderBy(\"rating_ratio\", ascending=False) \\\n",
    "    .select(\"name\", \"rating_ratio\")\n",
    "\n",
    "display(best_rated_games_prop.take(20))\n",
    "\n",
    "## Bar"
   ]
  },
  {
   "cell_type": "code",
   "execution_count": null,
   "metadata": {},
   "outputs": [],
   "source": [
    "#3 Which years with more releases? Releases during COVID (2020) ?\n",
    "#  Extracting year from original dataset and counting occurences.\n",
    "\n",
    "release_year = steam_2.withColumn(\"release_year\", F.substring(F.col(\"data.release_date\"), 1, 4)).select(\"release_year\")\n",
    "\n",
    "release_year_vis = release_year.groupBy('release_year').count().orderBy('count',ascending=False)\n",
    "display(release_year_vis.take(10))\n",
    "\n",
    "## Bar"
   ]
  },
  {
   "cell_type": "code",
   "execution_count": null,
   "metadata": {},
   "outputs": [],
   "source": [
    "#4 How are the prizes distributed? Are there many games with a discount?\n",
    "#  Groupby price and count occurences // count games with a discount\n",
    "\n",
    "preprocess_price = steam_2 \\\n",
    "    .withColumn(\"price_float\", F.col(\"data.initialprice\").cast(\"int\")) \\\n",
    "    .withColumn(\"discount_int\", F.col(\"data.discount\").cast(\"int\")) \\\n",
    "    .select(\"data.name\",\"price_float\",\"discount_int\")\n",
    "preprocess_price.show(3)\n",
    "\n",
    "games_with_discount = preprocess_price.filter(F.col(\"discount_int\")> 0).count()\n",
    "print(games_with_discount)\n",
    "\n",
    "price_distrib = preprocess_price.groupBy('price_float').count().orderBy('count',ascending=False)\n",
    "display(price_distrib.take(20))\n",
    "\n",
    "## Pie"
   ]
  },
  {
   "cell_type": "code",
   "execution_count": null,
   "metadata": {},
   "outputs": [],
   "source": [
    "#5 What are the most represented languages?\n",
    "#  Explode languages for each game and count occurences\n",
    "\n",
    "language_count = steam_2 \\\n",
    "    .withColumn(\"languages_array\", F.split(\"data.languages\", \", \")) \\\n",
    "    .select(\"data.name\", \"languages_array\")\n",
    "language_count.show(5)\n",
    "\n",
    "exploded_languages = language_count.withColumn(\"language\", F.explode(language_count[\"languages_array\"]))\n",
    "languages_vis = exploded_languages.groupBy(\"language\").count().orderBy('count',ascending=False)\n",
    "display(languages_vis.take(20))\n",
    "\n",
    "## Bar"
   ]
  },
  {
   "cell_type": "code",
   "execution_count": null,
   "metadata": {},
   "outputs": [],
   "source": [
    "#6 How many games prohibited for children under 16/18?\n",
    "#  Delete non usable info, converting to int, filter to more than 16yrs required age\n",
    "\n",
    "values_to_delete = [\"21+\", \"7+\",\"MA 15+\"]\n",
    "prep_prohibited_games = steam_2.filter(~F.col(\"data.required_age\").isin(values_to_delete))\n",
    "print(prep_prohibited_games.count())\n",
    "\n",
    "prep_prohibited_games = prep_prohibited_games \\\n",
    "    .withColumn(\"int_required_age\", F.col(\"data.required_age\").cast(\"int\")) \\\n",
    "    .filter(F.col(\"int_required_age\") >= 16) \\\n",
    "    .select(\"int_required_age\")\n",
    "\n",
    "print(\"amount of games prohibited for children under 16/18 or +\"prep_prohibited_games.count()+1)"
   ]
  },
  {
   "cell_type": "markdown",
   "metadata": {},
   "source": [
    "## Genres analysis"
   ]
  },
  {
   "cell_type": "code",
   "execution_count": null,
   "metadata": {},
   "outputs": [],
   "source": [
    "#1 What are the most represented genres?\n",
    "#  Split and explode data.genre, count distinct values.\n",
    "\n",
    "genre_count = steam_2.withColumn(\"genre_array\", F.split(\"data.genre\", \", \"))\n",
    "\n",
    "exploded_genre = genre_count.withColumn(\"genre\", F.explode(genre_count[\"genre_array\"]))\n",
    "print(exploded_genre.show(5))\n",
    "print(exploded_genre.select(\"genre\").distinct().count())\n",
    "exploded_genre_vis = exploded_genre.groupBy(\"genre\").count().orderBy(\"count\",ascending=False)\n",
    "display(exploded_genre_vis)\n",
    "\n",
    "## Area"
   ]
  },
  {
   "cell_type": "code",
   "execution_count": null,
   "metadata": {},
   "outputs": [],
   "source": [
    "#2 Are there any genres that have a better positive/negative review ratio?\n",
    "#  Creating feature rating_ratio on exploded \"genre\" dataset. \n",
    "\n",
    "preprocess_genre_rating = exploded_genre \\\n",
    "    .withColumn(\"int_positive\", F.col(\"data.positive\").cast(\"int\")) \\\n",
    "    .withColumn(\"int_negative\", F.col(\"data.negative\").cast(\"int\")) \\\n",
    "    .withColumn(\"rating_ratio\", F.col(\"int_positive\")/(F.col(\"int_positive\")+F.col(\"int_negative\"))) \\\n",
    "    .select(\"genre\",\"int_positive\",\"int_negative\",\"rating_ratio\")\n",
    "preprocess_genre_rating.show(5)\n",
    "print(preprocess_genre_rating.count())"
   ]
  },
  {
   "cell_type": "code",
   "execution_count": null,
   "metadata": {},
   "outputs": [],
   "source": [
    "# Calculating mean for each genre.\n",
    "\n",
    "rating_ratio_per_genre = preprocess_genre_rating\\\n",
    "    .groupBy(\"genre\")\\\n",
    "    .agg(F.mean(\"rating_ratio\").alias(\"mean_rating_ratio\"))\\\n",
    "    .orderBy(\"mean_rating_ratio\", ascending = False)\n",
    "\n",
    "display(rating_ratio_per_genre.take(30))\n",
    "\n",
    "## Bar"
   ]
  },
  {
   "cell_type": "code",
   "execution_count": null,
   "metadata": {},
   "outputs": [],
   "source": [
    "#3 Do some publishers have favorite genres?\n",
    "#  Focus top 20 publishers. Count genre games per publisher.\n",
    "\n",
    "main_publishers = publisher_occurence.take(20)\n",
    "main_publishers_list = [row.publisher for row in main_publishers if row.publisher]\n",
    "print(main_publishers_list)\n",
    "\n",
    "publisher_filtered = exploded_genre.filter(F.col(\"data.publisher\").isin(main_publishers_list))\n",
    "\n",
    "publisher_genre_counts = publisher_filtered.groupBy(\"data.publisher\", \"genre\") \\\n",
    "                           .agg(F.count(F.lit(1)).alias(\"genre_per_publisher_count\"))\n",
    "publisher_genre_counts.show(5)\n",
    "\n",
    "publisher_genre_vis = publisher_genre_counts.orderBy(\"genre_per_publisher_count\", ascending=False)\n",
    "display(publisher_genre_vis)\n",
    "    \n",
    "## Bar (groupby)"
   ]
  },
  {
   "cell_type": "code",
   "execution_count": null,
   "metadata": {},
   "outputs": [],
   "source": [
    "#4 What are the most lucrative genres?\n",
    "#  Estimate purchase with mean of owners.\n",
    "\n",
    "luc_genre = exploded_genre.withColumn(\"owners_array\", F.split(\"data.owners\", \" .. \"))\n",
    "\n",
    "luc_genre = luc_genre\\\n",
    "    .withColumn(\"mean_owners\",\n",
    "    (   F.regexp_replace(F.col(\"owners_array\")[0], \",\", \"\").cast(\"int\") +\n",
    "        F.regexp_replace(F.col(\"owners_array\")[1], \",\", \"\").cast(\"int\")) / 2) \\\n",
    "    .withColumn(\"price_float\", F.col(\"data.price\").cast(\"int\")) \\\n",
    "    .withColumn(\"revenue_estim\",(F.col(\"price_float\") * F.col(\"mean_owners\")))\n",
    "luc_genre.show(3)\n",
    "\n",
    "luc_genre_vis = luc_genre.groupBy(\"genre\").agg(F.sum(\"revenue_estim\").alias(\"total_revenue_estim\"))\n",
    "display(luc_genre_vis)\n",
    "\n",
    "## Pie"
   ]
  },
  {
   "cell_type": "markdown",
   "metadata": {},
   "source": [
    "## Platform analysis"
   ]
  },
  {
   "cell_type": "code",
   "execution_count": null,
   "metadata": {},
   "outputs": [],
   "source": [
    "#1 Are most games available on Windows/Mac/Linux instead?\n",
    "#  Count occurences where the plateform contains a value true (=1)\n",
    "platform_counts = steam_2.agg(\n",
    "    F.sum(F.col(\"data.platforms.linux\").cast(\"int\")).alias(\"linux_count\"),\n",
    "    F.sum(F.col(\"data.platforms.mac\").cast(\"int\")).alias(\"mac_count\"),\n",
    "    F.sum(F.col(\"data.platforms.windows\").cast(\"int\")).alias(\"windows_count\")\n",
    ")\n",
    "\n",
    "display(platform_counts)\n",
    "\n",
    "## Hist"
   ]
  },
  {
   "cell_type": "code",
   "execution_count": null,
   "metadata": {},
   "outputs": [],
   "source": [
    "#2 Do certain genres tend to be preferentially available on certain platforms?\n",
    "#  From exploded_genre data, count occurences where the plateform contains a value true (=1)\n",
    "\n",
    "platform_genre_counts = exploded_genre.groupBy(\"genre\").agg(\n",
    "    F.sum(F.col(\"data.platforms.linux\").cast(\"int\")).alias(\"linux_count\"),\n",
    "    F.sum(F.col(\"data.platforms.mac\").cast(\"int\")).alias(\"mac_count\"),\n",
    "    F.sum(F.col(\"data.platforms.windows\").cast(\"int\")).alias(\"windows_count\"),\n",
    "    F.count(\"*\").alias(\"total_count\")\n",
    ")\n",
    "\n",
    "platform_genre_counts = platform_genre_counts \\\n",
    "    .withColumn(\"linux_proportion\",F.col(\"linux_count\") / F.col(\"total_count\")) \\\n",
    "    .withColumn(\"mac_proportion\",F.col(\"mac_count\") / F.col(\"total_count\")) \\\n",
    "    .withColumn(\"windows_proportion\",F.col(\"windows_count\") / F.col(\"total_count\"))\n",
    "\n",
    "\n",
    "platform_genre_vis = platform_genre_counts.select(\"genre\", \"linux_proportion\", \"mac_proportion\", \"windows_proportion\")\n",
    "\n",
    "display(platform_genre_vis)\n",
    "\n",
    "## Combo"
   ]
  }
 ],
 "metadata": {
  "kernelspec": {
   "display_name": "Python 3",
   "language": "python",
   "name": "python3"
  },
  "language_info": {
   "codemirror_mode": {
    "name": "ipython",
    "version": 3
   },
   "file_extension": ".py",
   "mimetype": "text/x-python",
   "name": "python",
   "nbconvert_exporter": "python",
   "pygments_lexer": "ipython3",
   "version": "3.12.4"
  }
 },
 "nbformat": 4,
 "nbformat_minor": 2
}
